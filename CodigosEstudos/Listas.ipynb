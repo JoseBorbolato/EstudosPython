{
 "cells": [
  {
   "cell_type": "code",
   "execution_count": 36,
   "metadata": {},
   "outputs": [],
   "source": [
    "# Lista      ->[]\n",
    "# Tupla      ->()\n",
    "# Dicionário ->{}"
   ]
  },
  {
   "cell_type": "code",
   "execution_count": 38,
   "metadata": {},
   "outputs": [],
   "source": [
    "# Uma lista (list) em Python é uma sequência ou coleção ordenada de valores. \n",
    "# Cada valor na lista é identificado por um índice. O valores que formam uma lista são chamados elementos ou itens. \n",
    "# Listas são similares a strings, que são uma sequência de caracteres, no entanto, \n",
    "# diferentemente de strings, os itens de uma lista podem ser de tipos diferentes."
   ]
  },
  {
   "cell_type": "code",
   "execution_count": 44,
   "metadata": {},
   "outputs": [
    {
     "name": "stdout",
     "output_type": "stream",
     "text": [
      "['José', 29, '1992-01-30']\n"
     ]
    }
   ],
   "source": [
    "#lista\n",
    "\n",
    "minha_lista = ['José',29,'1992-01-30']\n",
    "print(minha_lista)"
   ]
  },
  {
   "cell_type": "code",
   "execution_count": 49,
   "metadata": {},
   "outputs": [
    {
     "name": "stdout",
     "output_type": "stream",
     "text": [
      "1992-01-30\n"
     ]
    }
   ],
   "source": [
    "#acessar indices da lista\n",
    "print(minha_lista[2])"
   ]
  },
  {
   "cell_type": "code",
   "execution_count": 92,
   "metadata": {},
   "outputs": [
    {
     "name": "stdout",
     "output_type": "stream",
     "text": [
      "['José', 29, 1.9, ['Pálio', 'Fusca'], True]\n",
      "<class 'str'>\n",
      "<class 'int'>\n",
      "<class 'float'>\n",
      "<class 'list'>\n",
      "<class 'bool'>\n"
     ]
    }
   ],
   "source": [
    "#lista com tipos diferentes e com uma lista dentro da lista\n",
    "\n",
    "lista = ['José',29,1.90,['Pálio','Fusca'],True]\n",
    "\n",
    "print(lista)\n",
    "print(type(lista[0]))\n",
    "print(type(lista[1]))\n",
    "print(type(lista[2]))\n",
    "print(type(lista[3]))\n",
    "print(type(lista[4]))"
   ]
  },
  {
   "cell_type": "code",
   "execution_count": 73,
   "metadata": {},
   "outputs": [
    {
     "name": "stdout",
     "output_type": "stream",
     "text": [
      "Pálio\n",
      "['Pálio', 'Fusca']\n",
      "cambio\n"
     ]
    }
   ],
   "source": [
    "#Acessar a lista dentro da lista\n",
    "\n",
    "lista = ['José',29,1.90,['Pálio','Fusca',['motor','cambio']]]\n",
    "\n",
    "print(lista[3][0])\n",
    "print(lista[3][0:2])\n",
    "print(lista[3][2][1])"
   ]
  },
  {
   "cell_type": "code",
   "execution_count": 91,
   "metadata": {},
   "outputs": [
    {
     "name": "stdout",
     "output_type": "stream",
     "text": [
      "Tamanho da lista principal é 5\n",
      "Tamanho da subLista é 3\n"
     ]
    }
   ],
   "source": [
    "# Tamanho da lista -> len()\n",
    "\n",
    "lista = ['José',29,1.90,['Pálio','Fusca',['motor','cambio']],False]\n",
    "\n",
    "print('Tamanho da lista principal é {}'.format(len(lista)))\n",
    "print('Tamanho da subLista é {valor}'.format(valor = len(lista[3])))"
   ]
  },
  {
   "cell_type": "code",
   "execution_count": 108,
   "metadata": {},
   "outputs": [
    {
     "name": "stdout",
     "output_type": "stream",
     "text": [
      "[1, 2, 3, 4]\n",
      "['maca', 'laranja', 3, 4]\n",
      "['maca', 'laranja', 'maca', 'laranja', 'maca', 'laranja', 'maca', 'laranja']\n"
     ]
    }
   ],
   "source": [
    "# Concatenar listas\n",
    "# Quando você concatena duas listas, você cria outra lista nova.\n",
    "\n",
    "frutas = [\"maca\", \"laranja\", \"banana\", \"cereja\"]\n",
    "\n",
    "grupo1 = [1,2]\n",
    "grupo2 = [3,4]\n",
    "print(grupo1 + grupo2)\n",
    "\n",
    "print(frutas[0:2] + grupo2)\n",
    "print(frutas[0:2] * 4)"
   ]
  },
  {
   "cell_type": "code",
   "execution_count": 119,
   "metadata": {
    "scrolled": true
   },
   "outputs": [
    {
     "name": "stdout",
     "output_type": "stream",
     "text": [
      "[1, 2, 3, 4]\n",
      "['José', 'Luiz', 3, 4]\n",
      "[3, 4]\n"
     ]
    }
   ],
   "source": [
    "# Acessar a lista e mudar ela com operador de FATIAMENTO\n",
    "lista = [1,2,3,4]\n",
    "print(lista)\n",
    "\n",
    "lista[:2] = ['José','Luiz']\n",
    "print(lista)\n",
    "\n",
    "lista[0:2] = []\n",
    "print(lista)"
   ]
  },
  {
   "cell_type": "code",
   "execution_count": 121,
   "metadata": {},
   "outputs": [
    {
     "name": "stdout",
     "output_type": "stream",
     "text": [
      "['maca', 'laranja', 'banana', 'cereja']\n"
     ]
    }
   ],
   "source": [
    "frutas = [\"maca\", \"laranja\", \"banana\", \"cereja\"]\n",
    "print(frutas[:])"
   ]
  },
  {
   "cell_type": "code",
   "execution_count": 222,
   "metadata": {},
   "outputs": [
    {
     "name": "stdout",
     "output_type": "stream",
     "text": [
      "['maca', 'laranja', 'banana', 'cereja', 'Scania']\n",
      "['maca', 'laranja', 'banana', 'cereja', 'Scania', 12]\n",
      "['maca', 'laranja', 'banana', 'cereja', 'Scania', 12, ['Palio', 'BMW']]\n"
     ]
    }
   ],
   "source": [
    "# Método append\n",
    "# Você pode acrecentar no \"FINAL\" da lista! e não pode usar indice pra acrecentar\n",
    "frutas = [\"maca\", \"laranja\", \"banana\", \"cereja\"]\n",
    "frutas.append('Scania')\n",
    "print(frutas)\n",
    "\n",
    "frutas.append(12)\n",
    "print(frutas)\n",
    "\n",
    "frutas.append(['Palio','BMW'])\n",
    "print(frutas)"
   ]
  },
  {
   "cell_type": "code",
   "execution_count": 146,
   "metadata": {},
   "outputs": [
    {
     "name": "stdout",
     "output_type": "stream",
     "text": [
      "A lista é \"[4, 5, 2, 8, 4, 3, 45, 67, 11, 23]\" e o tamanho é 10\n",
      "A lista é \"[4, 3, 5, 2, 8, 4, 3, 45, 67, 11, 23]\" e o tamanho é 11\n"
     ]
    }
   ],
   "source": [
    "# Insert   --> tem que determinar a posição\n",
    "# O método insert coloca o item na frente de determinada posição\n",
    "numeros = [4,5,2,8,4,3,45,67,11,23]\n",
    "print('A lista é \"{}\" e o tamanho é {}'.format(numeros,len(numeros)))\n",
    "\n",
    "numeros.insert(1,3)\n",
    "print('A lista é \"{}\" e o tamanho é {}'.format(numeros,len(numeros)))"
   ]
  },
  {
   "cell_type": "code",
   "execution_count": 221,
   "metadata": {},
   "outputs": [
    {
     "name": "stdout",
     "output_type": "stream",
     "text": [
      "['Amarero', 'azul', 'vermelhor', 'Preto', 'Branco']\n"
     ]
    }
   ],
   "source": [
    "#EXTEND\n",
    "# função extend para extender as listas. Inserir O CONTEÚDO de uma lista \n",
    "# dentro da outra.\n",
    "# O Append adiciona a própria lista. Fazendo, assim, uma sublista. Já o extend\n",
    "# insere dentro da lista o conteúdo.\n",
    "\n",
    "lista = ['Amarero','azul']\n",
    "cores = ['vermelhor','Preto','Branco']\n",
    "\n",
    "lista.extend(cores)\n",
    "print(lista)"
   ]
  },
  {
   "cell_type": "code",
   "execution_count": 163,
   "metadata": {},
   "outputs": [
    {
     "name": "stdout",
     "output_type": "stream",
     "text": [
      "['maca', 'laranja', 'banana']\n",
      "['laranja', 'banana', 'cereja']\n",
      "\n",
      "O conteudo da variavel x é: maca\n"
     ]
    }
   ],
   "source": [
    "# Função POP => Remove itens da Lista. \"E pode armazenar\"\n",
    "# Sem parâmetro \"pop()\" remove o ultimo item da lista ****\n",
    "# Com parâmetro \"pop(2)\" você remove da posição especificada.\n",
    "# Ainda é possível guardar o item removido\n",
    "\n",
    "frutas = [\"maca\", \"laranja\", \"banana\", \"cereja\"]\n",
    "frutas.pop() #remove o ultimo \"Cereja\"\n",
    "print(frutas)\n",
    "\n",
    "frutas = [\"maca\", \"laranja\", \"banana\", \"cereja\"]\n",
    "frutas.pop(0) #Remove \"maca\"\n",
    "print(frutas)\n",
    "\n",
    "frutas = [\"maca\", \"laranja\", \"banana\", \"cereja\"]\n",
    "x = frutas.pop(0) #Remove \"maca\" e armazena da variavel 'x'\n",
    "print('\\nO conteudo da variavel x é: {variavel}'.format(variavel = x))\n",
    "\n",
    "\n"
   ]
  },
  {
   "cell_type": "code",
   "execution_count": 228,
   "metadata": {},
   "outputs": [
    {
     "name": "stdout",
     "output_type": "stream",
     "text": [
      "['laranja', 'banana', 'cereja']\n"
     ]
    }
   ],
   "source": [
    "# REMOVE\n",
    "# A função remove, retira um item da lista buscando pelo conteúdo da lista.\n",
    "# A função remove deve conter parâmetro. Diferente do \"pop\", que você \n",
    "# pode passar vazio. Ex: pop() -> Irá remover o ultimo item\n",
    "frutas = [\"maca\", \"laranja\", \"banana\", \"cereja\"]\n",
    "frutas.remove('maca')\n",
    "print(frutas)\n"
   ]
  },
  {
   "cell_type": "code",
   "execution_count": 193,
   "metadata": {},
   "outputs": [
    {
     "name": "stdout",
     "output_type": "stream",
     "text": [
      "None\n",
      "None\n",
      "[2, 5, 6, 9, 11]\n"
     ]
    }
   ],
   "source": [
    "# Ordena Lista -> sort()\n",
    "# O detalhe importante é que você \"NÃO PODE\" atribuir o resultado dessa ordenação \n",
    "# a uma outra variável. Porque você vai perder a ordenação.\n",
    "# Inclusive, mandando print direto da ordenação\n",
    "\n",
    "# Atribuir a variável o resultado da ordenação da lista resultará na perda\n",
    "# da lista.\n",
    "\n",
    "numeros = [6,5,9,11,2,7]\n",
    "\n",
    "var = numeros.sort() \n",
    "print(var) #None\n",
    "print(numeros.sort()) #None\n",
    "\n",
    "numeros.sort()\n",
    "print(numeros)"
   ]
  },
  {
   "cell_type": "code",
   "execution_count": 232,
   "metadata": {},
   "outputs": [
    {
     "name": "stdout",
     "output_type": "stream",
     "text": [
      "[77, 5, 2, 34]\n"
     ]
    }
   ],
   "source": [
    "#reverse -> mostra a lista de tras pra frente.\n",
    "# Não tem a ver com ordenação, mas sim, visualização\n",
    "\n",
    "# O REVERSE PODE SER PARAMETRO DO SORT()\n",
    "\n",
    "lista = [34,2,5,77]\n",
    "lista.reverse()\n",
    "print(lista)\n"
   ]
  },
  {
   "cell_type": "code",
   "execution_count": 218,
   "metadata": {},
   "outputs": [
    {
     "name": "stdout",
     "output_type": "stream",
     "text": [
      "[34, 11, 9, 6, 5, 2]\n"
     ]
    }
   ],
   "source": [
    "# Outras opções de ordenação com o SORT()\n",
    "# sort(reverse=True)\n",
    "# Por padrão, a ordenação é CRESCENTE\n",
    "# reverse -> Ordenado ao contrario -> DECRESCENTE\n",
    "\n",
    "numeros = [6,5,9,11,2,34]\n",
    "numeros.sort(reverse=True)\n",
    "print(numeros)"
   ]
  },
  {
   "cell_type": "code",
   "execution_count": 239,
   "metadata": {},
   "outputs": [
    {
     "name": "stdout",
     "output_type": "stream",
     "text": [
      "[1, 2, 3, 5]\n"
     ]
    }
   ],
   "source": [
    "#SORTED\n",
    "#Ele não ordena a lista em si, mas retorna a lista ordenada para outra variavel.\n",
    "\n",
    "numeros = [5,2,1,3]\n",
    "novaLista = sorted(numeros)\n",
    "print(novaLista)"
   ]
  },
  {
   "cell_type": "code",
   "execution_count": 245,
   "metadata": {},
   "outputs": [
    {
     "name": "stdout",
     "output_type": "stream",
     "text": [
      "4\n",
      "6\n",
      "15\n",
      "9\n"
     ]
    }
   ],
   "source": [
    "# Funções\n",
    "# MIN\n",
    "# MAX\n",
    "# SUM\n",
    "\n",
    "numeros = [4,5,6]\n",
    "print(min(numeros)) # --> min 4\n",
    "print(max(numeros)) # --> ,max 6\n",
    "print(sum(numeros)) # --> ,sum 15\n",
    "print(sum(numeros[0:2])) # --> ,sum 9\n"
   ]
  },
  {
   "cell_type": "code",
   "execution_count": 246,
   "metadata": {},
   "outputs": [
    {
     "name": "stdout",
     "output_type": "stream",
     "text": [
      "Amarelo\n",
      "Azul\n",
      "Preto\n",
      "10\n",
      "4\n"
     ]
    }
   ],
   "source": [
    "# Laço de repetição FOR com itens de lista\n",
    "\n",
    "lista = ['Amarelo','Azul','Preto',10,4]\n",
    "for x in lista:\n",
    "    print(x)"
   ]
  },
  {
   "cell_type": "code",
   "execution_count": 248,
   "metadata": {},
   "outputs": [
    {
     "name": "stdout",
     "output_type": "stream",
     "text": [
      "A\n",
      "M\n",
      "A\n",
      "R\n",
      "E\n",
      "L\n",
      "O\n"
     ]
    }
   ],
   "source": [
    "# Laço de repetição FOR com itens de lista\n",
    "for x in 'AMARELO':\n",
    "    print(x)"
   ]
  },
  {
   "cell_type": "code",
   "execution_count": 251,
   "metadata": {},
   "outputs": [
    {
     "name": "stdout",
     "output_type": "stream",
     "text": [
      "A soma é:15\n"
     ]
    }
   ],
   "source": [
    "# Função abreviada do format\n",
    "# dentro da saída print, você coloca f\n",
    "# Ex: print(f\"minha variável {x}\")\n",
    "\n",
    "x = 10 + 5\n",
    "print(f\"A soma é:{x}\")"
   ]
  },
  {
   "cell_type": "code",
   "execution_count": 256,
   "metadata": {},
   "outputs": [
    {
     "name": "stdout",
     "output_type": "stream",
     "text": [
      "\n",
      "\n",
      "Meu nome é:José\n",
      "e tenho 29 anos\n",
      "\n",
      "\n"
     ]
    }
   ],
   "source": [
    "# Usando \"f\" junto com 3 aspas !!\n",
    "nome = \"José\"\n",
    "idade = 29\n",
    "\n",
    "mensagem = f\"\"\"\n",
    "\n",
    "Meu nome é:{nome}\n",
    "e tenho {idade} anos\n",
    "\n",
    "\"\"\"\n",
    "\n",
    "print(mensagem)"
   ]
  },
  {
   "cell_type": "code",
   "execution_count": 269,
   "metadata": {},
   "outputs": [
    {
     "name": "stdout",
     "output_type": "stream",
     "text": [
      "['José', 'Luiz', 'Borbolato']\n",
      "['José', 'Luiz', 'Borbolato']\n",
      "['José', 'Luiz Borbolato']\n"
     ]
    }
   ],
   "source": [
    "# Função \"split\".\n",
    "# Esta função pega uma frase \"String\" e monta uma \"lista\" com as palavras da frase.\n",
    "# Ainda pode definir o separador.\n",
    "\n",
    "nome = \"José Luiz Borbolato\"\n",
    "print(nome.split())\n",
    "\n",
    "nome = \"José#Luiz#Borbolato\"\n",
    "print(nome.split('#'))\n",
    "\n",
    "#maxsplit -> segundo parâmetro -> define o número máximo de divisões.\n",
    "nome = \"José Luiz Borbolato\"\n",
    "print(nome.split(' ',1))"
   ]
  },
  {
   "cell_type": "code",
   "execution_count": 8,
   "metadata": {},
   "outputs": [
    {
     "name": "stdout",
     "output_type": "stream",
     "text": [
      "['Minha', 'lista', 'é', 'igual', 'a', 'split']\n",
      "['Minha', 'lista', 'é', 'a', 'split']\n",
      "['lista', 'é', 'a', 'split']\n",
      "<built-in method count of str object at 0x0000013835975F70>\n"
     ]
    }
   ],
   "source": [
    "nome = \"Minha lista é igual a split\"\n",
    "lista = nome.split()\n",
    "print(lista)\n",
    "\n",
    "lista.remove('igual')\n",
    "print(lista)\n",
    "\n",
    "lista.pop(0)\n",
    "print(lista)\n",
    "\n"
   ]
  },
  {
   "cell_type": "code",
   "execution_count": 21,
   "metadata": {},
   "outputs": [
    {
     "name": "stdout",
     "output_type": "stream",
     "text": [
      "[[1, 'José'], [2, 'Luiz'], [3, 'Borbolato']]\n",
      "1   José\n",
      "2   Luiz\n",
      "3   Borbolato\n"
     ]
    }
   ],
   "source": [
    "lista = [\n",
    "    [1,'José'],\n",
    "    [2,'Luiz'],\n",
    "    [3,'Borbolato']\n",
    "]\n",
    "print(lista)\n",
    "\n",
    "for indice,valor in lista:\n",
    "    print(indice,' ',valor)"
   ]
  },
  {
   "cell_type": "code",
   "execution_count": 19,
   "metadata": {},
   "outputs": [
    {
     "name": "stdout",
     "output_type": "stream",
     "text": [
      "0   B\n",
      "1   a\n",
      "2   n\n",
      "3   a\n",
      "4   n\n",
      "5   a\n"
     ]
    }
   ],
   "source": [
    "#Função Enumerate. -> A função enumerate serve para \"Converter\" lista em tupla e rretornar o (\"INDICE\") \n",
    "# A função enumerate retorna TUPLAS\n",
    "# O enumerate é MUITO util para usar dentro do laço FOR\n",
    "\n",
    "lista = list('Banana')\n",
    "\n",
    "\n",
    "for indice, valor in enumerate(lista):\n",
    "    print(indice,' ',valor)"
   ]
  },
  {
   "cell_type": "code",
   "execution_count": null,
   "metadata": {},
   "outputs": [],
   "source": [
    "#desempacotar listas\n",
    "# Você pode usar o * para desempacotar uma lista\n",
    "var = 'O rato roeu a ropa do rei de roma'\n",
    "li = var.split()\n",
    "\n",
    "n1,n2,n3,*resto = li\n",
    "\n",
    "print(n1)\n",
    "print(n2)\n",
    "print(n3)\n",
    "print(*resto)"
   ]
  },
  {
   "cell_type": "code",
   "execution_count": null,
   "metadata": {},
   "outputs": [],
   "source": []
  }
 ],
 "metadata": {
  "kernelspec": {
   "display_name": "Python 3",
   "language": "python",
   "name": "python3"
  },
  "language_info": {
   "codemirror_mode": {
    "name": "ipython",
    "version": 3
   },
   "file_extension": ".py",
   "mimetype": "text/x-python",
   "name": "python",
   "nbconvert_exporter": "python",
   "pygments_lexer": "ipython3",
   "version": "3.8.5"
  }
 },
 "nbformat": 4,
 "nbformat_minor": 4
}
