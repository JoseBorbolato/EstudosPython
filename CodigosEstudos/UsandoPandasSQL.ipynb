{
 "metadata": {
  "language_info": {
   "codemirror_mode": {
    "name": "ipython",
    "version": 3
   },
   "file_extension": ".py",
   "mimetype": "text/x-python",
   "name": "python",
   "nbconvert_exporter": "python",
   "pygments_lexer": "ipython3",
   "version": "3.9.4"
  },
  "orig_nbformat": 2,
  "kernelspec": {
   "name": "pythonjvsc74a57bd0671d495510275b9dcc91f50d2a2a19008479ca761b4d66686178417f98ff21c2",
   "display_name": "Python 3.9.4  ('venv': venv)"
  },
  "metadata": {
   "interpreter": {
    "hash": "671d495510275b9dcc91f50d2a2a19008479ca761b4d66686178417f98ff21c2"
   }
  }
 },
 "nbformat": 4,
 "nbformat_minor": 2,
 "cells": [
  {
   "cell_type": "code",
   "execution_count": 17,
   "metadata": {},
   "outputs": [],
   "source": [
    "#Import das minhas conexões\n",
    "from ConexoesBanco import *\n",
    "import pandas as pd\n",
    "import sqlalchemy\n",
    "\n",
    "#LEMBRANDO QUE, NESSES CASOS, ESTOU JOGANDO O RESULTADO DAS CONSULTAS PARA UM DATAFRAME PANDAS"
   ]
  },
  {
   "cell_type": "code",
   "execution_count": 30,
   "metadata": {},
   "outputs": [
    {
     "output_type": "execute_result",
     "data": {
      "text/plain": [
       "   CODFILIAL                                   NOMEFANTASIA                 CGC\n",
       "0          1  INTEGRADO COLÉGIO E FACULDADE CAMPO MOURÃO/PR  79.264.628/0001-54\n",
       "1          2                 CAMPUS UNIVERSITÁRIO INTEGRADO  79.264.628/0003-16\n",
       "2          3                             INTEGRADO SERVIÇOS  79.264.628/0002-35\n",
       "3          4                          ADMINISTRAÇÃO CENTRAL  79.264.628/0004-05\n",
       "4          5                                      TERRA BOA  79.264.628/0005-88"
      ],
      "text/html": "<div>\n<style scoped>\n    .dataframe tbody tr th:only-of-type {\n        vertical-align: middle;\n    }\n\n    .dataframe tbody tr th {\n        vertical-align: top;\n    }\n\n    .dataframe thead th {\n        text-align: right;\n    }\n</style>\n<table border=\"1\" class=\"dataframe\">\n  <thead>\n    <tr style=\"text-align: right;\">\n      <th></th>\n      <th>CODFILIAL</th>\n      <th>NOMEFANTASIA</th>\n      <th>CGC</th>\n    </tr>\n  </thead>\n  <tbody>\n    <tr>\n      <th>0</th>\n      <td>1</td>\n      <td>INTEGRADO COLÉGIO E FACULDADE CAMPO MOURÃO/PR</td>\n      <td>79.264.628/0001-54</td>\n    </tr>\n    <tr>\n      <th>1</th>\n      <td>2</td>\n      <td>CAMPUS UNIVERSITÁRIO INTEGRADO</td>\n      <td>79.264.628/0003-16</td>\n    </tr>\n    <tr>\n      <th>2</th>\n      <td>3</td>\n      <td>INTEGRADO SERVIÇOS</td>\n      <td>79.264.628/0002-35</td>\n    </tr>\n    <tr>\n      <th>3</th>\n      <td>4</td>\n      <td>ADMINISTRAÇÃO CENTRAL</td>\n      <td>79.264.628/0004-05</td>\n    </tr>\n    <tr>\n      <th>4</th>\n      <td>5</td>\n      <td>TERRA BOA</td>\n      <td>79.264.628/0005-88</td>\n    </tr>\n  </tbody>\n</table>\n</div>"
     },
     "metadata": {},
     "execution_count": 30
    }
   ],
   "source": [
    "#metodo read_sql_table\n",
    "# Especificando Colunas\n",
    "filial = pd.read_sql_table('GFILIAL',conexaoSQLite(),columns=['CODFILIAL','NOMEFANTASIA','CGC'])\n",
    "filial.head()\n"
   ]
  },
  {
   "cell_type": "code",
   "execution_count": 64,
   "metadata": {},
   "outputs": [
    {
     "output_type": "stream",
     "name": "stdout",
     "text": [
      "             CODFILIAL                    NOMEFANTASIA\nCODCOLIGADA                                           \n1                    2  CAMPUS UNIVERSITÁRIO INTEGRADO\n\n\n<class 'pandas.core.frame.DataFrame'>\nInt64Index: 1 entries, 1 to 1\nData columns (total 2 columns):\n #   Column        Non-Null Count  Dtype \n---  ------        --------------  ----- \n 0   CODFILIAL     1 non-null      int64 \n 1   NOMEFANTASIA  1 non-null      object\ndtypes: int64(1), object(1)\nmemory usage: 24.0+ bytes\nNone\n"
     ]
    }
   ],
   "source": [
    "#USANDO MÉTODO READ_SQL_query\n",
    "filial = pd.read_sql_query(\n",
    "    '''Select \n",
    "        A.CODCOLIGADA,\n",
    "        A.CODFILIAL,\n",
    "        A.NOMEFANTASIA \n",
    "    from gfilial a \n",
    "    where \n",
    "    a.codfilial = 2''',\n",
    "    conexaoSQLite(),\n",
    "    index_col='CODCOLIGADA'\n",
    ")\n",
    "\n",
    "print(filial.head())\n",
    "print('\\n')\n",
    "print(filial.info())"
   ]
  },
  {
   "cell_type": "code",
   "execution_count": 107,
   "metadata": {},
   "outputs": [
    {
     "output_type": "stream",
     "name": "stdout",
     "text": [
      "   CODCOLIGADA  CODFILIAL                                   NOMEFANTASIA\n0            1          1  INTEGRADO COLÉGIO E FACULDADE CAMPO MOURÃO/PR\n"
     ]
    }
   ],
   "source": [
    "# USANDO READ_SQL PASSANDO PARÂMETROS NOMEADOS\n",
    "# O :parâmetro é a forma usada pelo SQLite, mas não pelo sql Server\n",
    "query = '''\n",
    "    SELECT \n",
    "        A.CODCOLIGADA,\n",
    "        A.CODFILIAL,\n",
    "        A.NOMEFANTASIA \n",
    "    FROM GFILIAL A \n",
    "    WHERE \n",
    "    A.CODFILIAL = :codcoligada\n",
    "'''\n",
    "\n",
    "filial = pd.read_sql_query(query,conexaoSQLite(),params={'codcoligada':1})\n",
    "print(filial.head())"
   ]
  },
  {
   "cell_type": "code",
   "execution_count": 128,
   "metadata": {},
   "outputs": [
    {
     "output_type": "stream",
     "name": "stdout",
     "text": [
      "   CODCOLIGADA  CODFILIAL                    NOMEFANTASIA\n0            1          2  CAMPUS UNIVERSITÁRIO INTEGRADO\n"
     ]
    }
   ],
   "source": [
    "# USANDO READ_SQL PASSANDO PARÂMETROS NOMEADOS\n",
    "# O :parâmetro é a forma usada pelo SQLite, mas não pelo sql Server\n",
    "# Pelo SQL Server, o parametro fica como ?\n",
    "query = '''\n",
    "    SELECT \n",
    "        A.CODCOLIGADA,\n",
    "        A.CODFILIAL,\n",
    "        A.NOMEFANTASIA \n",
    "    FROM GFILIAL A \n",
    "    WHERE \n",
    "    A.CODFILIAL = ? and A.CODCOLIGADA = ?\n",
    "'''\n",
    "\n",
    "filial = pd.read_sql_query(query,conexaoSQLServer(),params=['2','1'])\n",
    "print(filial.head())"
   ]
  }
 ]
}