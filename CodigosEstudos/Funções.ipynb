{
 "cells": [
  {
   "cell_type": "code",
   "execution_count": 1,
   "metadata": {},
   "outputs": [],
   "source": [
    "# NESSE ESTUDO SOBRE FUNÇÕES, VAMOS VER O CAMANDO (\"def\")\n",
    "# que serve para \"definir\" uma função no python.\n",
    "\n"
   ]
  },
  {
   "cell_type": "code",
   "execution_count": 3,
   "metadata": {},
   "outputs": [
    {
     "output_type": "stream",
     "name": "stdout",
     "text": [
      "Essa é a minha função !!\nEssa é a minha função !!\nEssa é a minha função !!\nEssa é a minha função !!\n"
     ]
    }
   ],
   "source": [
    "def MinhaFuncao():\n",
    "    print('Essa é a minha função !!')\n",
    "    \n",
    "\n",
    "MinhaFuncao()\n",
    "MinhaFuncao()\n",
    "MinhaFuncao()\n",
    "MinhaFuncao()"
   ]
  },
  {
   "cell_type": "code",
   "execution_count": 1,
   "metadata": {},
   "outputs": [
    {
     "output_type": "stream",
     "name": "stdout",
     "text": [
      "O nome é: Fulado e o sobrenome é:Ferreira\nO nome é: José Luiz e o sobrenome é:Borbolato\n"
     ]
    }
   ],
   "source": [
    "#Função com parametros default \n",
    "\n",
    "def Funcao(nome='Fulado',sobrenome='Ferreira'):\n",
    "    lista = [nome,sobrenome]\n",
    "    print(f'O nome é: {lista[0]} e o sobrenome é:{lista[1]}')\n",
    "\n",
    "Funcao()\n",
    "Funcao('José Luiz','Borbolato')\n"
   ]
  },
  {
   "cell_type": "code",
   "execution_count": 11,
   "metadata": {},
   "outputs": [
    {
     "name": "stdout",
     "output_type": "stream",
     "text": [
      "O nome é: Fulado e o sobrenome é:Ferreira\n",
      "O nome é: Fulado e o sobrenome é:José Luiz\n"
     ]
    }
   ],
   "source": [
    "#Função com parametros default \n",
    "#e informando apenas um deles\n",
    "def Funcao(nome='Fulado',sobrenome='Ferreira'):\n",
    "    lista = [nome,sobrenome]\n",
    "    print(f'O nome é: {lista[0]} e o sobrenome é:{lista[1]}')\n",
    "\n",
    "Funcao()\n",
    "Funcao(sobrenome='José Luiz')\n"
   ]
  },
  {
   "cell_type": "code",
   "execution_count": 40,
   "metadata": {},
   "outputs": [
    {
     "name": "stdout",
     "output_type": "stream",
     "text": [
      "O nome é: J0sé Luiz e o sobrenome é:B0rb0lat0\n"
     ]
    }
   ],
   "source": [
    "# Função com parametros default \n",
    "# e informando apenas um deles\n",
    "# Usando replace\n",
    "def Funcao(nome='Fulado',sobrenome='Ferreira'):\n",
    "    lista = [nome,sobrenome]\n",
    "    x = 0\n",
    "    for x,var1 in enumerate(lista):\n",
    "        lista[x] = lista[x].replace('o','0')\n",
    "       \n",
    "    print(f'O nome é: {lista[0]} e o sobrenome é:{lista[1]}')\n",
    "\n",
    "\n",
    "Funcao('José Luiz','Borbolato')"
   ]
  },
  {
   "cell_type": "code",
   "execution_count": 44,
   "metadata": {},
   "outputs": [
    {
     "name": "stdout",
     "output_type": "stream",
     "text": [
      "O numero 4 ao quadrado é: 16\n"
     ]
    }
   ],
   "source": [
    "# Função usando o return\n",
    "\n",
    "def Potencia(x):\n",
    "    return f'O numero {x} ao quadrado é: {x**2}'\n",
    "\n",
    "print(Potencia(4))"
   ]
  },
  {
   "cell_type": "code",
   "execution_count": 2,
   "metadata": {
    "scrolled": true
   },
   "outputs": [
    {
     "output_type": "stream",
     "name": "stdout",
     "text": [
      "1\n2\nJosé\n"
     ]
    }
   ],
   "source": [
    "# usando, em funções, *Args(desempacotador-> quando você não sabe quantos parametros vai precisar) e kwargs\n",
    "\n",
    "def func(*Args):\n",
    "    for x in Args:\n",
    "        print(x)\n",
    "\n",
    "func(1,2,'José')"
   ]
  },
  {
   "cell_type": "code",
   "execution_count": 58,
   "metadata": {},
   "outputs": [
    {
     "name": "stdout",
     "output_type": "stream",
     "text": [
      "O\n",
      "rato\n",
      "roeu\n",
      "['a', 'ropa', 'do', 'rei', 'de', 'roma']\n"
     ]
    }
   ],
   "source": [
    "# Desempacotar listas\n",
    "# Você pode usar o * para desempacotar o resto de uma lista.\n",
    "var = 'O rato roeu a ropa do rei de roma'\n",
    "li = var.split()\n",
    "\n",
    "n1,n2,n3,*resto = li\n",
    "\n",
    "print(n1)\n",
    "print(n2)\n",
    "print(n3)\n",
    "print(*resto)"
   ]
  },
  {
   "cell_type": "code",
   "execution_count": 66,
   "metadata": {},
   "outputs": [
    {
     "name": "stdout",
     "output_type": "stream",
     "text": [
      "1\n",
      "2\n",
      "José\n"
     ]
    }
   ],
   "source": [
    "#entrtanto, o parametro desempacotado é uma tupla. Ou seja, é imutavel.\n",
    "#mas você pode converter para lista.\n",
    "\n",
    "def func(*paran):\n",
    "    print(paran[0])\n",
    "    print(paran[1])\n",
    "    print(paran[2])\n",
    "    \n",
    "\n",
    "func(1,2,'José')"
   ]
  },
  {
   "cell_type": "code",
   "execution_count": 81,
   "metadata": {},
   "outputs": [
    {
     "name": "stdout",
     "output_type": "stream",
     "text": [
      "1\n",
      "2\n",
      "5\n",
      "['Olá mundo', 7, 10]\n"
     ]
    }
   ],
   "source": [
    "#entrtanto, o parametro desempacotado é uma tupla. Ou seja, é imutavel.\n",
    "#mas você pode converter para lista.\n",
    "\n",
    "def func(*args):\n",
    "    paran = list(args)\n",
    "    \n",
    "    for index,x in enumerate(paran):\n",
    "        print(x)\n",
    "        paran[index] += 5\n",
    "        \n",
    "    paran[0] = 'Olá mundo'\n",
    "    print(paran)\n",
    "\n",
    "func(1,2,5)"
   ]
  },
  {
   "cell_type": "code",
   "execution_count": 87,
   "metadata": {},
   "outputs": [
    {
     "name": "stdout",
     "output_type": "stream",
     "text": [
      "{'nome': 'jose', 'idade': 29}\n",
      "jose\n"
     ]
    }
   ],
   "source": [
    "# Usando **kwargs\n",
    "# No caso do **kwargs, os parâmetros são convertidos em DICIONÁRIO\n",
    "\n",
    "def fun(**kwargs):\n",
    "    print(kwargs)\n",
    "    print(kwargs['nome'])\n",
    "    \n",
    "fun(nome='jose',idade=29)"
   ]
  },
  {
   "cell_type": "code",
   "execution_count": 91,
   "metadata": {},
   "outputs": [
    {
     "name": "stdout",
     "output_type": "stream",
     "text": [
      "José Luiz Borbolato\n",
      "O Parametro idade não foi informado\n"
     ]
    }
   ],
   "source": [
    "# Usando **kwargs\n",
    "# Usando o get no kwargs.\n",
    "# O GET é usado para buscar valores de chaves dos DICIONÁRIOS\n",
    "\n",
    "def fun(**kwargs):\n",
    "    \n",
    "    nome = kwargs.get('nome')\n",
    "    print(nome)\n",
    "    \n",
    "    if kwargs.get('idade') is None:\n",
    "        print('O Parametro idade não foi informado')\n",
    "    \n",
    "    \n",
    "fun(nome='José Luiz Borbolato')\n",
    "\n",
    "# A diferença entre o kwargs[chave] e o kwargs.get(chave) é que:\n",
    "# No kwargs[chave] se o parametro não for informado, ele retorna um erro e para a execução do projeto.\n",
    "# Já no kwargs.get(chave), ele retorna None, se não existir o parametro."
   ]
  }
 ],
 "metadata": {
  "kernelspec": {
   "name": "python388jvsc74a57bd060da6c3a98c804a23a9f7329a340382fd06ee66ae13e4d7dd1b020938b09ca47",
   "display_name": "Python 3.8.8 64-bit ('base': conda)"
  },
  "language_info": {
   "codemirror_mode": {
    "name": "ipython",
    "version": 3
   },
   "file_extension": ".py",
   "mimetype": "text/x-python",
   "name": "python",
   "nbconvert_exporter": "python",
   "pygments_lexer": "ipython3",
   "version": "3.8.8"
  }
 },
 "nbformat": 4,
 "nbformat_minor": 4
}