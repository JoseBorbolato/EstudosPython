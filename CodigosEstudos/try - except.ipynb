{
 "metadata": {
  "language_info": {
   "codemirror_mode": {
    "name": "ipython",
    "version": 3
   },
   "file_extension": ".py",
   "mimetype": "text/x-python",
   "name": "python",
   "nbconvert_exporter": "python",
   "pygments_lexer": "ipython3",
   "version": "3.8.8"
  },
  "orig_nbformat": 2,
  "kernelspec": {
   "name": "python388jvsc74a57bd0671d495510275b9dcc91f50d2a2a19008479ca761b4d66686178417f98ff21c2",
   "display_name": "Python 3.8.8  ('venv': venv)"
  }
 },
 "nbformat": 4,
 "nbformat_minor": 2,
 "cells": [
  {
   "cell_type": "code",
   "execution_count": 2,
   "metadata": {},
   "outputs": [],
   "source": [
    "# Usando o TRY EXCEPT           "
   ]
  },
  {
   "cell_type": "code",
   "execution_count": 4,
   "metadata": {},
   "outputs": [
    {
     "output_type": "stream",
     "name": "stdout",
     "text": [
      "Erro\n"
     ]
    }
   ],
   "source": [
    "# Essa é a forma mais ampla \n",
    "\n",
    "try:\n",
    "    print(Gol)\n",
    "except:\n",
    "    print('Erro')"
   ]
  },
  {
   "cell_type": "code",
   "execution_count": 15,
   "metadata": {},
   "outputs": [
    {
     "output_type": "stream",
     "name": "stdout",
     "text": [
      "Erro:  list index out of range\n"
     ]
    }
   ],
   "source": [
    "# Pegando a classe do erro\n",
    "Gol = []\n",
    "try:\n",
    "    print(Gol[0])\n",
    "except Exception as meuErro:\n",
    "    print('Erro: ', meuErro)"
   ]
  },
  {
   "cell_type": "code",
   "execution_count": 20,
   "metadata": {},
   "outputs": [
    {
     "output_type": "stream",
     "name": "stdout",
     "text": [
      "José\nCódigo executado com sucesso!\n"
     ]
    }
   ],
   "source": [
    "# Usando o ELSE\n",
    "\n",
    "Gol = ['José']\n",
    "try:\n",
    "    print(Gol[0])\n",
    "except Exception as meuErro:\n",
    "    print('Erro: ', meuErro)\n",
    "else:\n",
    "    print('Código executado com sucesso!')"
   ]
  }
 ]
}