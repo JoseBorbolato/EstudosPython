{
 "metadata": {
  "language_info": {
   "codemirror_mode": {
    "name": "ipython",
    "version": 3
   },
   "file_extension": ".py",
   "mimetype": "text/x-python",
   "name": "python",
   "nbconvert_exporter": "python",
   "pygments_lexer": "ipython3",
   "version": "3.8.8"
  },
  "orig_nbformat": 2,
  "kernelspec": {
   "name": "pythonjvsc74a57bd0cdc7a139b4d384248ebebcb6f81cea7eacfa44dfee8fdbc3f9fdf8dc32362c5b",
   "display_name": "Python 3.8.8  ('venv': venv)"
  },
  "metadata": {
   "interpreter": {
    "hash": "cdc7a139b4d384248ebebcb6f81cea7eacfa44dfee8fdbc3f9fdf8dc32362c5b"
   }
  }
 },
 "nbformat": 4,
 "nbformat_minor": 2,
 "cells": [
  {
   "cell_type": "code",
   "execution_count": 2,
   "metadata": {},
   "outputs": [],
   "source": [
    "# os dicionários são coleções de itens desordenados com uma diferença bem grande quando comparados às outras coleções (lists, sets, tuples, etc): um elemento dentro de um dicionário possui uma chave atrelada a ele, uma espécie de identificador.\n",
    "\n",
    "#Sendo assim, é muito utilizado quando queremos armazenar dados de forma organizada e que possuem identificação única (como acontece em bancos de dados).\n",
    "\n",
    "#Dicionários são delimitados por {} -> chaves\n",
    "# Os dicionários contém chave: valor -> Muito semelhante ao json\n",
    "\n"
   ]
  },
  {
   "cell_type": "code",
   "execution_count": 27,
   "metadata": {},
   "outputs": [
    {
     "output_type": "stream",
     "name": "stdout",
     "text": [
      "{'0001': 'José Luiz', '0002': 'jordan Vinicius', '0003': 'Johnny Santos'}\n\n <class 'dict'>\n\n jordan Vinicius\n"
     ]
    }
   ],
   "source": [
    "#Meu primeiro dicionário\n",
    "\n",
    "dic = {\n",
    "    '0001': 'José Luiz',\n",
    "    '0002': 'jordan Vinicius',\n",
    "    '0003': 'Johnny Santos'\n",
    "}\n",
    "\n",
    "print(dic)\n",
    "print('\\n',type(dic))\n",
    "print('\\n', dic['0002'])\n"
   ]
  },
  {
   "cell_type": "code",
   "execution_count": 28,
   "metadata": {},
   "outputs": [
    {
     "output_type": "stream",
     "name": "stdout",
     "text": [
      "{'chave1': 'josé Luiz', 'chave2': 'Jordan Vinicius', 'chave3': 'Johnny Santos'}\n"
     ]
    }
   ],
   "source": [
    "# Outra forma de criar dicionários é usando o DICT\n",
    "\n",
    "dicionario = dict(chave1 = 'josé Luiz',chave2 = 'Jordan Vinicius',chave3 = 'Johnny Santos')\n",
    "print(dicionario) "
   ]
  },
  {
   "cell_type": "code",
   "execution_count": 34,
   "metadata": {},
   "outputs": [
    {
     "output_type": "stream",
     "name": "stdout",
     "text": [
      "{'0001': 'José Luiz', '0002': 'jordan Vinicius', '0003': 'Johnny Santos'}\n{'0001': 'José Luiz', '0002': 'jordan Vinicius', '0003': 'Johnny Santos', '0004': 'Bruno Henrique'}\n"
     ]
    }
   ],
   "source": [
    "#adicionando itens no dicionário\n",
    "\n",
    "dic = {\n",
    "    '0001': 'José Luiz',\n",
    "    '0002': 'jordan Vinicius',\n",
    "    '0003': 'Johnny Santos'\n",
    "}\n",
    "print(dic)\n",
    "\n",
    "dic['0004'] = 'Bruno Henrique'\n",
    "print(dic)"
   ]
  },
  {
   "cell_type": "code",
   "execution_count": 45,
   "metadata": {},
   "outputs": [
    {
     "output_type": "stream",
     "name": "stdout",
     "text": [
      "0001  ->  José Luiz\n0002  ->  jordan Vinicius\n0003  ->  Johnny Santos\n0004  ->  Bruno Henrique\n"
     ]
    }
   ],
   "source": [
    "# Usando laço de repetição para iterar meus dicionários\n",
    "for x in dic:\n",
    "    print(x,' -> ',dic[x])\n"
   ]
  },
  {
   "cell_type": "code",
   "execution_count": 53,
   "metadata": {},
   "outputs": [
    {
     "output_type": "stream",
     "name": "stdout",
     "text": [
      "False\nTrue\n"
     ]
    }
   ],
   "source": [
    "#usando IN para buscar um valor na chave da tupla\n",
    "print('0005' in dic)\n",
    "print('0001' in dic)\n"
   ]
  },
  {
   "cell_type": "code",
   "execution_count": 69,
   "metadata": {},
   "outputs": [
    {
     "output_type": "stream",
     "name": "stdout",
     "text": [
      "0 João\n1 José\n2 Bruno\n3 Gian\n4 maria\n"
     ]
    }
   ],
   "source": [
    "# O dicionário é diferente da lista\n",
    "\n",
    "lista = ['José','Bruno','Gian']\n",
    "lista.insert(0,'João')\n",
    "lista.append('maria')\n",
    "for x , y in enumerate(lista):\n",
    "    print(x,y)\n"
   ]
  },
  {
   "cell_type": "code",
   "execution_count": 77,
   "metadata": {},
   "outputs": [
    {
     "output_type": "stream",
     "name": "stdout",
     "text": [
      "None\njordan Vinicius\n"
     ]
    }
   ],
   "source": [
    "#usando o comando GET para pegar chaves, mesmo que não existam.type\n",
    "\n",
    "dic = {\n",
    "    '0001': 'José Luiz',\n",
    "    '0002': 'jordan Vinicius',\n",
    "    '0003': 'Johnny Santos'\n",
    "}\n",
    "print(dic.get('0000'))\n",
    "print(dic.get('0002'))"
   ]
  },
  {
   "cell_type": "code",
   "execution_count": 86,
   "metadata": {},
   "outputs": [
    {
     "output_type": "stream",
     "name": "stdout",
     "text": [
      "João\nMaria\nPedro\nLucia\n"
     ]
    }
   ],
   "source": [
    "# Função recebendo um dicionário como parâmetro\n",
    "\n",
    "def nomes(par):\n",
    "    for x in par:\n",
    "        print(par[x])\n",
    "\n",
    "\n",
    "nomes({\n",
    "    '001':'João',\n",
    "    '002':'Maria',\n",
    "    '003':'Pedro',\n",
    "    '004':'Lucia'\n",
    "})\n",
    "\n"
   ]
  },
  {
   "cell_type": "code",
   "execution_count": 89,
   "metadata": {},
   "outputs": [
    {
     "output_type": "stream",
     "name": "stdout",
     "text": [
      "Pedro Montovan\njordan Vinicius\nJohnny Santos\n"
     ]
    }
   ],
   "source": [
    "#Alterando valor do dicionário\n",
    "\n",
    "dic['0001'] = 'Pedro Montovan'\n",
    "nomes(dic)"
   ]
  },
  {
   "cell_type": "code",
   "execution_count": 93,
   "metadata": {},
   "outputs": [
    {
     "output_type": "error",
     "ename": "KeyError",
     "evalue": "'0001'",
     "traceback": [
      "\u001b[1;31m---------------------------------------------------------------------------\u001b[0m",
      "\u001b[1;31mKeyError\u001b[0m                                  Traceback (most recent call last)",
      "\u001b[1;32m<ipython-input-93-c621091b35a7>\u001b[0m in \u001b[0;36m<module>\u001b[1;34m\u001b[0m\n\u001b[0;32m      1\u001b[0m \u001b[1;31m#excluir valor do dicionário -> DEL\u001b[0m\u001b[1;33m\u001b[0m\u001b[1;33m\u001b[0m\u001b[1;33m\u001b[0m\u001b[0m\n\u001b[0;32m      2\u001b[0m \u001b[1;33m\u001b[0m\u001b[0m\n\u001b[1;32m----> 3\u001b[1;33m \u001b[1;32mdel\u001b[0m \u001b[0mdic\u001b[0m\u001b[1;33m[\u001b[0m\u001b[1;34m'0001'\u001b[0m\u001b[1;33m]\u001b[0m\u001b[1;33m\u001b[0m\u001b[1;33m\u001b[0m\u001b[0m\n\u001b[0m\u001b[0;32m      4\u001b[0m \u001b[0mprint\u001b[0m\u001b[1;33m(\u001b[0m\u001b[0mdic\u001b[0m\u001b[1;33m)\u001b[0m\u001b[1;33m\u001b[0m\u001b[1;33m\u001b[0m\u001b[0m\n",
      "\u001b[1;31mKeyError\u001b[0m: '0001'"
     ]
    }
   ],
   "source": [
    "#excluir valor do dicionário -> DEL\n",
    "\n",
    "del dic['0001']\n",
    "print(dic)"
   ]
  },
  {
   "cell_type": "code",
   "execution_count": 110,
   "metadata": {},
   "outputs": [
    {
     "output_type": "stream",
     "name": "stdout",
     "text": [
      "False \n\njosé Luiz\nJordan Vinicius\nJohnny Santos\nchave1\nchave2\nchave3\n"
     ]
    }
   ],
   "source": [
    "# Usando o values para pegar os valores do dicionário e não as chaves.\n",
    "print('chave1' in dicionario.values(),'\\n')\n",
    "\n",
    "for x in dicionario.values():\n",
    "     print(x)\n",
    "    \n",
    "for x in dicionario.keys():\n",
    "     print(x)"
   ]
  },
  {
   "cell_type": "code",
   "execution_count": 116,
   "metadata": {},
   "outputs": [
    {
     "output_type": "stream",
     "name": "stdout",
     "text": [
      "<class 'tuple'> ('512254', 'Lançamento 512254') -> Lançamento 512254\n<class 'tuple'> ('512255', 'Lançamento 512255') -> Lançamento 512255\n<class 'tuple'> ('512256', 'Lançamento 512256') -> Lançamento 512256\n<class 'tuple'> ('512257', 'Lançamento 512257') -> Lançamento 512257\n<class 'tuple'> ('512258', 'Lançamento 512258') -> Lançamento 512258\n"
     ]
    }
   ],
   "source": [
    "# Iterando od dicionários usando \"Items\"\n",
    "# O que é interesante: Quando você usa o items, você 'converte' o item da sua chave em tupla.\n",
    "\n",
    "dicionario = {\n",
    "    '512254':'Lançamento 512254',\n",
    "    '512255':'Lançamento 512255',\n",
    "    '512256':'Lançamento 512256',\n",
    "    '512257':'Lançamento 512257',\n",
    "    '512258':'Lançamento 512258'\n",
    "}\n",
    "\n",
    "for x in dicionario.items():\n",
    "    print(type(x), x, '->', x[1])"
   ]
  }
 ]
}