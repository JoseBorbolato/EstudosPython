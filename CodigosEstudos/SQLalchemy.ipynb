{
 "metadata": {
  "language_info": {
   "codemirror_mode": {
    "name": "ipython",
    "version": 3
   },
   "file_extension": ".py",
   "mimetype": "text/x-python",
   "name": "python",
   "nbconvert_exporter": "python",
   "pygments_lexer": "ipython3",
   "version": "3.9.4"
  },
  "orig_nbformat": 2,
  "kernelspec": {
   "name": "pythonjvsc74a57bd0671d495510275b9dcc91f50d2a2a19008479ca761b4d66686178417f98ff21c2",
   "display_name": "Python 3.9.4 64-bit ('venv': venv)"
  },
  "metadata": {
   "interpreter": {
    "hash": "671d495510275b9dcc91f50d2a2a19008479ca761b4d66686178417f98ff21c2"
   }
  }
 },
 "nbformat": 4,
 "nbformat_minor": 2,
 "cells": [
  {
   "cell_type": "code",
   "execution_count": 3,
   "metadata": {},
   "outputs": [],
   "source": [
    "from sqlalchemy import create_engine, MetaData, Table, Column, Integer, String\n",
    "import os   "
   ]
  },
  {
   "cell_type": "code",
   "execution_count": 12,
   "metadata": {},
   "outputs": [],
   "source": [
    "#CRIANDO BANCO SQLite COM O COMANDO ENGINE\n",
    "\n",
    "#meu diretório padrão\n",
    "DIR_DEFAULT = os.path.abspath('.')\n",
    "\n",
    "#Nome do meu banco de dados\n",
    "BANCO = 'SQLiteCorporeRM.db'\n",
    "\n",
    "#string de conecção ao banco\n",
    "str_banco = f'sqlite:///{os.path.join(DIR_DEFAULT,BANCO)}'\n",
    "\n",
    "#criando coneção\n",
    "engine = create_engine(str_banco, echo=False)\n",
    "\n",
    "#conectando ao banco de dados -> Criando banco\n",
    "conexao = engine.connect()"
   ]
  },
  {
   "cell_type": "code",
   "execution_count": 13,
   "metadata": {},
   "outputs": [],
   "source": [
    "#CRIANDO TABELA NO BANCO\n",
    "\n",
    "meta = MetaData()\n",
    "\n",
    "contato = Table(\n",
    "   'contato', meta, \n",
    "   Column('id', Integer, primary_key = True), \n",
    "   Column('nome', String)\n",
    "   \n",
    ")\n",
    "meta.create_all(engine)\n"
   ]
  },
  {
   "cell_type": "code",
   "execution_count": 14,
   "metadata": {},
   "outputs": [
    {
     "output_type": "stream",
     "name": "stdout",
     "text": [
      "(1, 'José Luiz')\n"
     ]
    }
   ],
   "source": [
    "result = conexao.execute('select * from contato')\n",
    "for x in result:\n",
    "    print (x)"
   ]
  }
 ]
}