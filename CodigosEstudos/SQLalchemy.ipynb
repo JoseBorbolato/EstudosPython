{
 "metadata": {
  "language_info": {
   "codemirror_mode": {
    "name": "ipython",
    "version": 3
   },
   "file_extension": ".py",
   "mimetype": "text/x-python",
   "name": "python",
   "nbconvert_exporter": "python",
   "pygments_lexer": "ipython3",
   "version": "3.8.5"
  },
  "orig_nbformat": 2,
  "kernelspec": {
   "name": "python385jvsc74a57bd0b3ba2566441a7c06988d0923437866b63cedc61552a5af99d1f4fb67d367b25f",
   "display_name": "Python 3.8.5 64-bit ('base': conda)"
  },
  "metadata": {
   "interpreter": {
    "hash": "671d495510275b9dcc91f50d2a2a19008479ca761b4d66686178417f98ff21c2"
   }
  }
 },
 "nbformat": 4,
 "nbformat_minor": 2,
 "cells": [
  {
   "cell_type": "code",
   "execution_count": 2,
   "metadata": {},
   "outputs": [],
   "source": [
    "from sqlalchemy import create_engine, MetaData, Table, Column, Integer, String, insert\n",
    "import os   "
   ]
  },
  {
   "cell_type": "code",
   "execution_count": 3,
   "metadata": {},
   "outputs": [],
   "source": [
    "#CRIANDO BANCO SQLite COM O COMANDO ENGINE\n",
    "\n",
    "#meu diretório padrão\n",
    "DIR_DEFAULT = os.path.abspath('.')\n",
    "\n",
    "#Nome do meu banco de dados\n",
    "BANCO = 'SQLiteCorporeRM.db'\n",
    "\n",
    "#string de conecção ao banco\n",
    "str_banco = f'sqlite:///{os.path.join(DIR_DEFAULT,BANCO)}'\n",
    "\n",
    "#criando coneção\n",
    "engine = create_engine(str_banco, echo=False)\n",
    "\n",
    "#conectando ao banco de dados -> Criando banco\n",
    "conexao = engine.connect()\n"
   ]
  },
  {
   "cell_type": "code",
   "execution_count": 4,
   "metadata": {},
   "outputs": [],
   "source": [
    "#CRIANDO TABELA NO BANCO\n",
    "\n",
    "meta = MetaData()\n",
    "\n",
    "contato = Table(\n",
    "   'contato', meta, \n",
    "   Column('id', Integer, primary_key = True), \n",
    "   Column('nome', String)\n",
    "   \n",
    ")\n",
    "meta.create_all(engine)\n"
   ]
  },
  {
   "cell_type": "code",
   "execution_count": 5,
   "metadata": {},
   "outputs": [
    {
     "output_type": "stream",
     "name": "stdout",
     "text": [
      "<class 'sqlalchemy.engine.result.ResultProxy'>\n"
     ]
    }
   ],
   "source": [
    "result = conexao.execute('select * from contato')\n",
    "print(type(result))"
   ]
  },
  {
   "cell_type": "code",
   "execution_count": 10,
   "metadata": {},
   "outputs": [
    {
     "output_type": "stream",
     "name": "stdout",
     "text": [
      "Olá mundo\n"
     ]
    }
   ],
   "source": []
  }
 ]
}