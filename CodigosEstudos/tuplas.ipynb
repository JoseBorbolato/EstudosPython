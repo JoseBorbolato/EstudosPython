{
 "metadata": {
  "language_info": {
   "codemirror_mode": {
    "name": "ipython",
    "version": 3
   },
   "file_extension": ".py",
   "mimetype": "text/x-python",
   "name": "python",
   "nbconvert_exporter": "python",
   "pygments_lexer": "ipython3",
   "version": "3.8.8"
  },
  "orig_nbformat": 2,
  "kernelspec": {
   "name": "pythonjvsc74a57bd0cdc7a139b4d384248ebebcb6f81cea7eacfa44dfee8fdbc3f9fdf8dc32362c5b",
   "display_name": "Python 3.8.8  ('venv': venv)"
  },
  "metadata": {
   "interpreter": {
    "hash": "cdc7a139b4d384248ebebcb6f81cea7eacfa44dfee8fdbc3f9fdf8dc32362c5b"
   }
  }
 },
 "nbformat": 4,
 "nbformat_minor": 2,
 "cells": [
  {
   "cell_type": "code",
   "execution_count": 2,
   "metadata": {},
   "outputs": [],
   "source": [
    "# tuplas são 'listas' imutaveis."
   ]
  },
  {
   "cell_type": "code",
   "execution_count": 7,
   "metadata": {},
   "outputs": [
    {
     "output_type": "stream",
     "name": "stdout",
     "text": [
      "<class 'tuple'>\n(1, 2, 'José', True)\n"
     ]
    }
   ],
   "source": [
    "variavel = (1,2,'José',True)\n",
    "\n",
    "print(type(variavel))\n",
    "print(variavel)"
   ]
  },
  {
   "cell_type": "code",
   "execution_count": 9,
   "metadata": {},
   "outputs": [
    {
     "output_type": "stream",
     "name": "stdout",
     "text": [
      "(1, 2, 3, 4, 5, 6)\n"
     ]
    }
   ],
   "source": [
    "# Não é possível adicionar itens em tuplas.\n",
    "# Apenas somar(concatenar) tuplas\n",
    "\n",
    "t1 = (1,2,3)\n",
    "t2 = (4,5,6)\n",
    "new = t1 + t2\n",
    "print(new)"
   ]
  }
 ]
}