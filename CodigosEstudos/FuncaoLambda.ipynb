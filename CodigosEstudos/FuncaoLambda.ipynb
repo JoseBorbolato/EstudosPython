{
 "metadata": {
  "language_info": {
   "codemirror_mode": {
    "name": "ipython",
    "version": 3
   },
   "file_extension": ".py",
   "mimetype": "text/x-python",
   "name": "python",
   "nbconvert_exporter": "python",
   "pygments_lexer": "ipython3",
   "version": "3.8.8"
  },
  "orig_nbformat": 2,
  "kernelspec": {
   "name": "pythonjvsc74a57bd0cdc7a139b4d384248ebebcb6f81cea7eacfa44dfee8fdbc3f9fdf8dc32362c5b",
   "display_name": "Python 3.8.8  ('venv': venv)"
  },
  "metadata": {
   "interpreter": {
    "hash": "cdc7a139b4d384248ebebcb6f81cea7eacfa44dfee8fdbc3f9fdf8dc32362c5b"
   }
  }
 },
 "nbformat": 4,
 "nbformat_minor": 2,
 "cells": [
  {
   "cell_type": "code",
   "execution_count": 24,
   "metadata": {},
   "outputs": [
    {
     "output_type": "stream",
     "name": "stdout",
     "text": [
      "Olá mundo\n"
     ]
    }
   ],
   "source": [
    "#meu primeiro teste\n",
    "print('Olá mundo')"
   ]
  },
  {
   "cell_type": "code",
   "execution_count": 25,
   "metadata": {},
   "outputs": [
    {
     "output_type": "stream",
     "name": "stdout",
     "text": [
      "Salveeee\n"
     ]
    }
   ],
   "source": [
    "#segundo bloco\n",
    "\n",
    "def func(msg):\n",
    "    print(msg)\n",
    "\n",
    "func('Salveeee')\n",
    "\n"
   ]
  },
  {
   "cell_type": "code",
   "execution_count": null,
   "metadata": {},
   "outputs": [],
   "source": []
  }
 ]
}