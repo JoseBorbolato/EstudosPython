{
 "metadata": {
  "language_info": {
   "codemirror_mode": {
    "name": "ipython",
    "version": 3
   },
   "file_extension": ".py",
   "mimetype": "text/x-python",
   "name": "python",
   "nbconvert_exporter": "python",
   "pygments_lexer": "ipython3",
   "version": "3.8.8"
  },
  "orig_nbformat": 2,
  "kernelspec": {
   "name": "pythonjvsc74a57bd0671d495510275b9dcc91f50d2a2a19008479ca761b4d66686178417f98ff21c2",
   "display_name": "Python 3.8.8  ('venv': venv)"
  },
  "metadata": {
   "interpreter": {
    "hash": "671d495510275b9dcc91f50d2a2a19008479ca761b4d66686178417f98ff21c2"
   }
  }
 },
 "nbformat": 4,
 "nbformat_minor": 2,
 "cells": [
  {
   "cell_type": "code",
   "execution_count": 15,
   "metadata": {},
   "outputs": [
    {
     "output_type": "stream",
     "name": "stdout",
     "text": [
      "('josé', 'Luiz', 29, 'Analista', 'Integrado')\n##################################################\njosé\nLuiz\n29\n['Analista', 'Integrado'] --> Interessante perceber que o restante não desempacotado virou uma lista\n"
     ]
    }
   ],
   "source": [
    "# O Desempacotamento é um recurso muito usado e poderoso.\n",
    "# consiste em distriburir valores de uma tubla, lista ou dicionário em variáveis.\n",
    "\n",
    "# Exemplo com tupla:\n",
    "\n",
    "tupla = ('josé','Luiz',29,'Analista','Integrado')\n",
    "print(tupla)\n",
    "print('#' * 50)\n",
    "#########################################\n",
    "nome, segundoNome, idade, *resto = tupla\n",
    "#########################################\n",
    "\n",
    "print(nome)\n",
    "print(segundoNome)\n",
    "print(idade)\n",
    "print(resto,'--> Interessante perceber que o restante não desempacotado virou uma lista')\n",
    "\n"
   ]
  },
  {
   "cell_type": "code",
   "execution_count": 37,
   "metadata": {},
   "outputs": [
    {
     "output_type": "stream",
     "name": "stdout",
     "text": [
      "[(1, 'José', 25, 'Quinta do sol', 'Casado'), (2, 'Jordan', 45, 'maringá', 'Casado'), (3, 'Johnny', 50, 'Campo Mourão', 'cas')]\n##################################################\n(1, 'José', 25, 'Quinta do sol', 'Casado')\n(2, 'Jordan', 45, 'maringá', 'Casado')\n(3, 'Johnny', 50, 'Campo Mourão', 'cas')\n##################################################\n1 José Casado\n2 Jordan Casado\n3 Johnny cas\n"
     ]
    }
   ],
   "source": [
    "# Desempacotando com o Laço de repetição.\n",
    "lista = [\n",
    "    (1,'José',25,'Quinta do sol','Casado'),\n",
    "    (2,'Jordan',45,'maringá','Casado'),\n",
    "    (3,'Johnny',50,'Campo Mourão','cas')\n",
    "]\n",
    "print(lista)\n",
    "print('#' * 50)\n",
    "\n",
    "for x in lista:\n",
    "    print(x)\n",
    "print('#' * 50)\n",
    "\n",
    "for index, nome, *resto in lista:\n",
    "    print(index, nome, resto[2])"
   ]
  },
  {
   "cell_type": "code",
   "execution_count": 50,
   "metadata": {},
   "outputs": [
    {
     "output_type": "stream",
     "name": "stdout",
     "text": [
      "José\nluiz\n('borbolato', 'João')\n"
     ]
    }
   ],
   "source": [
    "# Desempacotando listas como parâmetro de função\n",
    "\n",
    "def minhaFuncao(x,y,*args):\n",
    "    print(x)\n",
    "    print(y)\n",
    "    print(args)\n",
    "\n",
    "lista = ['José','luiz','borbolato','João']\n",
    "\n",
    "minhaFuncao(*lista)\n",
    "\n",
    "#Usando o * o Python entende que deve desempacotar os itens da lista"
   ]
  }
 ]
}