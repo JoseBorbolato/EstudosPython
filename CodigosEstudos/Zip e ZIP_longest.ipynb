{
 "metadata": {
  "language_info": {
   "codemirror_mode": {
    "name": "ipython",
    "version": 3
   },
   "file_extension": ".py",
   "mimetype": "text/x-python",
   "name": "python",
   "nbconvert_exporter": "python",
   "pygments_lexer": "ipython3",
   "version": "3.8.8"
  },
  "orig_nbformat": 2,
  "kernelspec": {
   "name": "pythonjvsc74a57bd0671d495510275b9dcc91f50d2a2a19008479ca761b4d66686178417f98ff21c2",
   "display_name": "Python 3.8.8  ('venv': venv)"
  },
  "metadata": {
   "interpreter": {
    "hash": "671d495510275b9dcc91f50d2a2a19008479ca761b4d66686178417f98ff21c2"
   }
  }
 },
 "nbformat": 4,
 "nbformat_minor": 2,
 "cells": [
  {
   "cell_type": "code",
   "execution_count": 7,
   "metadata": {},
   "outputs": [
    {
     "output_type": "stream",
     "name": "stdout",
     "text": [
      "<zip object at 0x000002155C85ACC0>\n('PR', 'Curitiba')\n('SP', 'Araçatuba')\n('DF', 'Brasilha')\n"
     ]
    }
   ],
   "source": [
    "# Função ZIP e ZIPLongest\n",
    "# Funções que UNEM listas.\n",
    "\n",
    "lista_cidade = ['Curitiba','Araçatuba','Brasilha']\n",
    "lista_estado = ['PR','SP','DF']\n",
    "\n",
    "lista_estado_cidade = zip(lista_estado,lista_cidade)\n",
    "print(lista_estado_cidade)\n",
    "#As função zip Une as listas transformando em um GERADOR\n",
    "#exemplo:\n",
    "print(next(lista_estado_cidade))\n",
    "print(next(lista_estado_cidade))\n",
    "print(next(lista_estado_cidade))"
   ]
  },
  {
   "cell_type": "code",
   "execution_count": 14,
   "metadata": {},
   "outputs": [
    {
     "output_type": "stream",
     "name": "stdout",
     "text": [
      "('PR', 'Curitiba')\n('SP', 'Araçatuba')\n('DF', 'Brasilha')\n"
     ]
    }
   ],
   "source": [
    "lista_cidade = ['Curitiba','Araçatuba','Brasilha']\n",
    "lista_estado = ['PR','SP','DF']\n",
    "\n",
    "lista_estado_cidade = zip(lista_estado,lista_cidade)\n",
    "\n",
    "# As função zip Une as listas transformando em um GERADOR\n",
    "# dessa forma, devemos iterar sobre ela com for ou listComprehensions;\n",
    "\n",
    "for x in lista_estado_cidade:\n",
    "    print(x)\n"
   ]
  },
  {
   "cell_type": "code",
   "execution_count": 17,
   "metadata": {},
   "outputs": [
    {
     "output_type": "stream",
     "name": "stdout",
     "text": [
      "PR Curitiba\nSP Araçatuba\nDF Brasilha\n"
     ]
    }
   ],
   "source": [
    "lista_cidade = ['Curitiba','Araçatuba','Brasilha']\n",
    "lista_estado = ['PR','SP','DF']\n",
    "\n",
    "lista_estado_cidade = zip(lista_estado,lista_cidade)\n",
    "\n",
    "# As função zip Une as listas transformando em um GERADOR\n",
    "# dessa forma, devemos iterar sobre ela com for ou listComprehensions;\n",
    "\n",
    "#desempacotando \n",
    "for x,y in lista_estado_cidade:\n",
    "    print(x,y)\n"
   ]
  },
  {
   "cell_type": "code",
   "execution_count": 25,
   "metadata": {},
   "outputs": [
    {
     "output_type": "stream",
     "name": "stdout",
     "text": [
      "[2, 8, 4, 13]\n"
     ]
    }
   ],
   "source": [
    "# Somando listas\n",
    "\n",
    "lista1 = [1,5,2,3]\n",
    "lista2 = [1,3,2,10]\n",
    "\n",
    "Soma = [x + y for x, y in zip(lista1,lista2)]\n",
    "print(Soma)\n"
   ]
  }
 ]
}