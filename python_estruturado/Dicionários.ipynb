{
 "metadata": {
  "language_info": {
   "codemirror_mode": {
    "name": "ipython",
    "version": 3
   },
   "file_extension": ".py",
   "mimetype": "text/x-python",
   "name": "python",
   "nbconvert_exporter": "python",
   "pygments_lexer": "ipython3",
   "version": "3.8.5"
  },
  "orig_nbformat": 2,
  "kernelspec": {
   "name": "python385jvsc74a57bd0b3ba2566441a7c06988d0923437866b63cedc61552a5af99d1f4fb67d367b25f",
   "display_name": "Python 3.8.5 64-bit ('base': conda)"
  },
  "metadata": {
   "interpreter": {
    "hash": "cdc7a139b4d384248ebebcb6f81cea7eacfa44dfee8fdbc3f9fdf8dc32362c5b"
   }
  }
 },
 "nbformat": 4,
 "nbformat_minor": 2,
 "cells": [
  {
   "cell_type": "code",
   "execution_count": 2,
   "metadata": {},
   "outputs": [],
   "source": [
    "# os dicionários são coleções de itens desordenados com uma diferença bem grande quando comparados às outras coleções (lists, sets, tuples, etc): um elemento dentro de um dicionário possui uma chave atrelada a ele, uma espécie de identificador.\n",
    "\n",
    "#Sendo assim, é muito utilizado quando queremos armazenar dados de forma organizada e que possuem identificação única (como acontece em bancos de dados).\n",
    "\n",
    "#Dicionários são delimitados por {} -> chaves\n",
    "# Os dicionários contém chave: valor -> Muito semelhante ao json\n",
    "\n"
   ]
  },
  {
   "cell_type": "code",
   "execution_count": 1,
   "metadata": {},
   "outputs": [
    {
     "output_type": "stream",
     "name": "stdout",
     "text": [
      "{'0001': 'José Luiz', '0002': 'jordan Vinicius', '0003': 'Johnny Santos'}\n\n <class 'dict'>\n\n jordan Vinicius\n"
     ]
    }
   ],
   "source": [
    "#Meu primeiro dicionário\n",
    "\n",
    "dic = {\n",
    "    '0001': 'José Luiz',\n",
    "    '0002': 'jordan Vinicius',\n",
    "    '0003': 'Johnny Santos'\n",
    "}\n",
    "\n",
    "print(dic)\n",
    "print('\\n',type(dic))\n",
    "print('\\n', dic['0002'])\n"
   ]
  },
  {
   "cell_type": "code",
   "execution_count": 2,
   "metadata": {},
   "outputs": [
    {
     "output_type": "stream",
     "name": "stdout",
     "text": [
      "{'chave1': 'josé Luiz', 'chave2': 'Jordan Vinicius', 'chave3': 'Johnny Santos'}\n"
     ]
    }
   ],
   "source": [
    "# Outra forma de criar dicionários é usando o DICT\n",
    "\n",
    "dicionario = dict(chave1 = 'josé Luiz',chave2 = 'Jordan Vinicius',chave3 = 'Johnny Santos')\n",
    "print(dicionario) "
   ]
  },
  {
   "cell_type": "code",
   "execution_count": 3,
   "metadata": {},
   "outputs": [
    {
     "output_type": "stream",
     "name": "stdout",
     "text": [
      "{'0001': 'José Luiz', '0002': 'jordan Vinicius', '0003': 'Johnny Santos'}\n{'0001': 'José Luiz', '0002': 'jordan Vinicius', '0003': 'Johnny Santos', '0004': 'Bruno Henrique'}\n"
     ]
    }
   ],
   "source": [
    "#adicionando itens no dicionário\n",
    "\n",
    "dic = {\n",
    "    '0001': 'José Luiz',\n",
    "    '0002': 'jordan Vinicius',\n",
    "    '0003': 'Johnny Santos'\n",
    "}\n",
    "print(dic)\n",
    "\n",
    "dic['0004'] = 'Bruno Henrique'\n",
    "print(dic)"
   ]
  },
  {
   "cell_type": "code",
   "execution_count": 4,
   "metadata": {},
   "outputs": [
    {
     "output_type": "stream",
     "name": "stdout",
     "text": [
      "0001  ->  José Luiz\n0002  ->  jordan Vinicius\n0003  ->  Johnny Santos\n0004  ->  Bruno Henrique\n"
     ]
    }
   ],
   "source": [
    "# Usando laço de repetição para iterar meus dicionários\n",
    "for x in dic:\n",
    "    print(x,' -> ',dic[x])\n"
   ]
  },
  {
   "cell_type": "code",
   "execution_count": 53,
   "metadata": {},
   "outputs": [
    {
     "output_type": "stream",
     "name": "stdout",
     "text": [
      "False\nTrue\n"
     ]
    }
   ],
   "source": [
    "#usando IN para buscar um valor na chave da tupla\n",
    "print('0005' in dic)\n",
    "print('0001' in dic)\n"
   ]
  },
  {
   "cell_type": "code",
   "execution_count": 69,
   "metadata": {},
   "outputs": [
    {
     "output_type": "stream",
     "name": "stdout",
     "text": [
      "0 João\n1 José\n2 Bruno\n3 Gian\n4 maria\n"
     ]
    }
   ],
   "source": [
    "# O dicionário é diferente da lista\n",
    "\n",
    "lista = ['José','Bruno','Gian']\n",
    "lista.insert(0,'João')\n",
    "lista.append('maria')\n",
    "for x , y in enumerate(lista):\n",
    "    print(x,y)\n"
   ]
  },
  {
   "cell_type": "code",
   "execution_count": 77,
   "metadata": {},
   "outputs": [
    {
     "output_type": "stream",
     "name": "stdout",
     "text": [
      "None\njordan Vinicius\n"
     ]
    }
   ],
   "source": [
    "#usando o comando GET para pegar chaves, mesmo que não existam.type\n",
    "\n",
    "dic = {\n",
    "    '0001': 'José Luiz',\n",
    "    '0002': 'jordan Vinicius',\n",
    "    '0003': 'Johnny Santos'\n",
    "}\n",
    "print(dic.get('0000'))\n",
    "print(dic.get('0002'))"
   ]
  },
  {
   "cell_type": "code",
   "execution_count": 86,
   "metadata": {},
   "outputs": [
    {
     "output_type": "stream",
     "name": "stdout",
     "text": [
      "João\nMaria\nPedro\nLucia\n"
     ]
    }
   ],
   "source": [
    "# Função recebendo um dicionário como parâmetro\n",
    "\n",
    "def nomes(par):\n",
    "    for x in par:\n",
    "        print(par[x])\n",
    "\n",
    "\n",
    "nomes({\n",
    "    '001':'João',\n",
    "    '002':'Maria',\n",
    "    '003':'Pedro',\n",
    "    '004':'Lucia'\n",
    "})\n",
    "\n"
   ]
  },
  {
   "cell_type": "code",
   "execution_count": 89,
   "metadata": {},
   "outputs": [
    {
     "output_type": "stream",
     "name": "stdout",
     "text": [
      "Pedro Montovan\njordan Vinicius\nJohnny Santos\n"
     ]
    }
   ],
   "source": [
    "#Alterando valor do dicionário\n",
    "\n",
    "dic['0001'] = 'Pedro Montovan'\n",
    "nomes(dic)"
   ]
  },
  {
   "cell_type": "code",
   "execution_count": 93,
   "metadata": {},
   "outputs": [
    {
     "output_type": "error",
     "ename": "KeyError",
     "evalue": "'0001'",
     "traceback": [
      "\u001b[1;31m---------------------------------------------------------------------------\u001b[0m",
      "\u001b[1;31mKeyError\u001b[0m                                  Traceback (most recent call last)",
      "\u001b[1;32m<ipython-input-93-c621091b35a7>\u001b[0m in \u001b[0;36m<module>\u001b[1;34m\u001b[0m\n\u001b[0;32m      1\u001b[0m \u001b[1;31m#excluir valor do dicionário -> DEL\u001b[0m\u001b[1;33m\u001b[0m\u001b[1;33m\u001b[0m\u001b[1;33m\u001b[0m\u001b[0m\n\u001b[0;32m      2\u001b[0m \u001b[1;33m\u001b[0m\u001b[0m\n\u001b[1;32m----> 3\u001b[1;33m \u001b[1;32mdel\u001b[0m \u001b[0mdic\u001b[0m\u001b[1;33m[\u001b[0m\u001b[1;34m'0001'\u001b[0m\u001b[1;33m]\u001b[0m\u001b[1;33m\u001b[0m\u001b[1;33m\u001b[0m\u001b[0m\n\u001b[0m\u001b[0;32m      4\u001b[0m \u001b[0mprint\u001b[0m\u001b[1;33m(\u001b[0m\u001b[0mdic\u001b[0m\u001b[1;33m)\u001b[0m\u001b[1;33m\u001b[0m\u001b[1;33m\u001b[0m\u001b[0m\n",
      "\u001b[1;31mKeyError\u001b[0m: '0001'"
     ]
    }
   ],
   "source": [
    "#excluir valor do dicionário -> DEL\n",
    "\n",
    "del dic['0001']\n",
    "print(dic)"
   ]
  },
  {
   "cell_type": "code",
   "execution_count": 110,
   "metadata": {},
   "outputs": [
    {
     "output_type": "stream",
     "name": "stdout",
     "text": [
      "False \n\njosé Luiz\nJordan Vinicius\nJohnny Santos\nchave1\nchave2\nchave3\n"
     ]
    }
   ],
   "source": [
    "# Usando o values para pegar os valores do dicionário e não as chaves.\n",
    "print('chave1' in dicionario.values(),'\\n')\n",
    "\n",
    "for x in dicionario.values():\n",
    "     print(x)\n",
    "    \n",
    "for x in dicionario.keys():\n",
    "     print(x)"
   ]
  },
  {
   "cell_type": "code",
   "execution_count": 117,
   "metadata": {},
   "outputs": [
    {
     "output_type": "stream",
     "name": "stdout",
     "text": [
      "<class 'tuple'> ('512254', 'Lançamento 512254') -> Lançamento 512254\n<class 'tuple'> ('512255', 'Lançamento 512255') -> Lançamento 512255\n<class 'tuple'> ('512256', 'Lançamento 512256') -> Lançamento 512256\n<class 'tuple'> ('512257', 'Lançamento 512257') -> Lançamento 512257\n<class 'tuple'> ('512258', 'Lançamento 512258') -> Lançamento 512258\n"
     ]
    }
   ],
   "source": [
    "# Iterando od dicionários usando \"Items\"\n",
    "# O que é interesante: Quando você usa o items, você 'converte' o item da sua chave em tupla.\n",
    "\n",
    "dicionario = {\n",
    "    '512254':'Lançamento 512254',\n",
    "    '512255':'Lançamento 512255',\n",
    "    '512256':'Lançamento 512256',\n",
    "    '512257':'Lançamento 512257',\n",
    "    '512258':'Lançamento 512258'\n",
    "}\n",
    "\n",
    "for x in dicionario.items():\n",
    "    print(type(x), x, '->', x[1])"
   ]
  },
  {
   "cell_type": "code",
   "execution_count": 121,
   "metadata": {},
   "outputs": [
    {
     "output_type": "stream",
     "name": "stdout",
     "text": [
      "512254 --> Lançamento 512254\n512255 --> Lançamento 512255\n512256 --> Lançamento 512256\n512257 --> Lançamento 512257\n512258 --> Lançamento 512258\n"
     ]
    }
   ],
   "source": [
    "# Iterando od dicionários usando \"Items\"\n",
    "# O que é interesante: Quando você usa o items, você 'converte' o item da sua chave em tupla.\n",
    "# Entretanto, você pode usar o items() para desempacotar o dicionário em duas variáveis\n",
    "\n",
    "'''\n",
    "essa é a melhor forma de iterar os itens do dicionário\n",
    "'''\n",
    "\n",
    "dicionario = {\n",
    "    '512254':'Lançamento 512254',\n",
    "    '512255':'Lançamento 512255',\n",
    "    '512256':'Lançamento 512256',\n",
    "    '512257':'Lançamento 512257',\n",
    "    '512258':'Lançamento 512258'\n",
    "}\n",
    "\n",
    "for x,y in dicionario.items():\n",
    "    print(x,'-->',y)"
   ]
  },
  {
   "cell_type": "code",
   "execution_count": 139,
   "metadata": {},
   "outputs": [
    {
     "output_type": "stream",
     "name": "stdout",
     "text": [
      "{'C0001': {'Nome': 'José Luiz', 'Idade': 29, 'endereco': {'cep': '87301-320', 'rua': 'Rua das acacias', 'numero': 472, 'cidade': 'Campo Mourão'}}, 'C0002': {'Nome': 'João Vitor', 'Idade': 25}, 'C0003': {'Nome': 'Pedro Vandame', 'Idade': 35, 'endereco': {'cep': '87265-000', 'rua': 'Rua andromeda', 'numero': 51, 'cidade': 'Quinta do Sol'}}}\n"
     ]
    }
   ],
   "source": [
    "'''\n",
    "================================================================================\n",
    "Os dicionários são estruturas MUITO semelhantes ao JSON\n",
    "Portanto, podemos ter estruturas como a seguinte:\n",
    "================================================================================\n",
    "'''\n",
    "\n",
    "cliente = {\n",
    "    'C0001':{\n",
    "        'Nome'  :'José Luiz',\n",
    "        'Idade' :29,\n",
    "        'endereco':{\n",
    "            'cep':'87301-320',\n",
    "            'rua': 'Rua das acacias',\n",
    "            'numero': 472,\n",
    "            'cidade':'Campo Mourão'\n",
    "        }\n",
    "       \n",
    "    },\n",
    "    'C0002':{\n",
    "        'Nome'  :'João Vitor',\n",
    "        'Idade' :25\n",
    "        \n",
    "    },\n",
    "    'C0003':{\n",
    "        'Nome'  :'Pedro Vandame',\n",
    "        'Idade' :35,\n",
    "        'endereco':{\n",
    "            'cep':'87265-000',\n",
    "            'rua': 'Rua andromeda',\n",
    "            'numero': 51,\n",
    "            'cidade':'Quinta do Sol'\n",
    "        }\n",
    "\n",
    "    }\n",
    "}\n",
    "\n",
    "print(cliente)"
   ]
  },
  {
   "cell_type": "code",
   "execution_count": 166,
   "metadata": {},
   "outputs": [
    {
     "output_type": "stream",
     "name": "stdout",
     "text": [
      "C0001\n\t -> José Luiz\n\t -> 29\n\t -> {'cep': '87301-320', 'rua': 'Rua das acacias', 'numero': 472, 'cidade': 'Campo Mourão'}\nC0002\n\t -> João Vitor\n\t -> 25\nC0003\n\t -> Pedro Vandame\n\t -> 35\n\t -> {'cep': '87265-000', 'rua': 'Rua andromeda', 'numero': 51, 'cidade': 'Quinta do Sol'}\n"
     ]
    }
   ],
   "source": [
    "'''\n",
    "================================================================================\n",
    "Iterando sobre os dicionário com mais dicionários dentro =D\n",
    "================================================================================\n",
    "'''\n",
    "\n",
    "cliente = {\n",
    "    'C0001':{\n",
    "        'Nome'  :'José Luiz',\n",
    "        'Idade' :29,\n",
    "        'endereco':{\n",
    "            'cep':'87301-320',\n",
    "            'rua': 'Rua das acacias',\n",
    "            'numero': 472,\n",
    "            'cidade':'Campo Mourão'\n",
    "        }\n",
    "       \n",
    "    },\n",
    "    'C0002':{\n",
    "        'Nome'  :'João Vitor',\n",
    "        'Idade' :25\n",
    "        \n",
    "    },\n",
    "    'C0003':{\n",
    "        'Nome'  :'Pedro Vandame',\n",
    "        'Idade' :35,\n",
    "        'endereco':{\n",
    "            'cep':'87265-000',\n",
    "            'rua': 'Rua andromeda',\n",
    "            'numero': 51,\n",
    "            'cidade':'Quinta do Sol'\n",
    "        }\n",
    "\n",
    "    }\n",
    "}\n",
    "\n",
    "for codigo,dados in cliente.items():\n",
    "    print(codigo)\n",
    "    \n",
    "    for chave,dados_pessoas in dados.items():\n",
    "        print('\\t','->',dados_pessoas)\n",
    "        \n",
    "      "
   ]
  },
  {
   "cell_type": "code",
   "execution_count": 168,
   "metadata": {},
   "outputs": [
    {
     "output_type": "stream",
     "name": "stdout",
     "text": [
      "{'C0001': {'Nome': 'José Luiz', 'Idade': 29, 'endereco': {'cep': '87301-320', 'rua': 'Rua das acacias', 'numero': 472, 'cidade': 'Campo Mourão'}}, 'C0002': {'Nome': 'João Vitor', 'Idade': 25}, 'C0003': {'Nome': 'Pedro Vandame', 'Idade': 35, 'endereco': {'cep': '87265-000', 'rua': 'Rua andromeda', 'numero': 51, 'cidade': 'Quinta do Sol'}}}\n"
     ]
    }
   ],
   "source": [
    "# Para você criar uma cópia de um dicionário, você deve usar o módulo COPY\n",
    "# novoDic = copy.deepcopy(dicionario)\n",
    "\n",
    "import copy\n",
    "\n",
    "novoDic = copy.deepcopy(cliente)\n",
    "\n",
    "print(novoDic)\n",
    "\n"
   ]
  },
  {
   "cell_type": "code",
   "execution_count": 182,
   "metadata": {},
   "outputs": [
    {
     "output_type": "stream",
     "name": "stdout",
     "text": [
      "[['0001', 'José'], ['0002', 'Maria'], ['0003', 'Pedro'], ['0004', 'jordan']]\n{'0001': 'José', '0002': 'Maria', '0003': 'Pedro', '0004': 'jordan'}\n"
     ]
    }
   ],
   "source": [
    "# Convertendo LISTAS em DICIONARIOS\n",
    "\n",
    "lista = [\n",
    "    ['0001','José'],\n",
    "    ['0002','Maria'],\n",
    "    ['0003','Pedro'],\n",
    "    ['0004','jordan']\n",
    "\n",
    "]\n",
    "print(lista)\n",
    "\n",
    "lista = dict(lista)\n",
    "print(lista)"
   ]
  },
  {
   "cell_type": "code",
   "execution_count": 183,
   "metadata": {},
   "outputs": [
    {
     "output_type": "stream",
     "name": "stdout",
     "text": [
      "{'0001': 'José', '0002': 'Maria', '0003': 'Pedro', '0004': 'jordan'}\n{'0002': 'Maria', '0003': 'Pedro', '0004': 'jordan'}\n"
     ]
    }
   ],
   "source": [
    "# Removendo item do dicionário\n",
    "# POP(chave)\n",
    "# POPitem() remove o ultimo item do dicionário\n",
    "\n",
    "print(lista)\n",
    "\n",
    "lista.pop('0001')\n",
    "print(lista)\n"
   ]
  },
  {
   "cell_type": "code",
   "execution_count": 9,
   "metadata": {},
   "outputs": [
    {
     "output_type": "stream",
     "name": "stdout",
     "text": [
      "Qual a soma de 2 + 2?\nQual a soma de 2 + 6?\nQual a soma de 3 + 2?\n{'A': 4, 'B': 8, 'C': 10, 'D': 51, 'E': 5}\n{'A': 4, 'B': 8, 'C': 10, 'D': 51, 'E': 5}\n{'A': 4, 'B': 8, 'C': 10, 'D': 51, 'E': 5}\nA\nB\nE\n"
     ]
    }
   ],
   "source": [
    "dic = {\n",
    "    'pergunta 01': {\n",
    "        'pergunta': 'Qual a soma de 2 + 2?',\n",
    "        'opcoes': {\n",
    "            'A': 4,\n",
    "            'B': 8,\n",
    "            'C': 10,\n",
    "            'D': 51,\n",
    "            'E': 5\n",
    "        },\n",
    "        'resposta': 'A'\n",
    "    },\n",
    "    'pergunta 02': {\n",
    "        'pergunta': 'Qual a soma de 2 + 6?',\n",
    "        'opcoes': {\n",
    "            'A': 4,\n",
    "            'B': 8,\n",
    "            'C': 10,\n",
    "            'D': 51,\n",
    "            'E': 5\n",
    "        },\n",
    "        'resposta': 'B'\n",
    "    },\n",
    "    'pergunta 03': {\n",
    "        'pergunta': 'Qual a soma de 3 + 2?',\n",
    "        'opcoes': {\n",
    "            'A': 4,\n",
    "            'B': 8,\n",
    "            'C': 10,\n",
    "            'D': 51,\n",
    "            'E': 5\n",
    "        },\n",
    "        'resposta': 'E'\n",
    "    }\n",
    "}\n",
    "\n",
    "\n",
    "for chave,dados in dic.items():\n",
    "    print(dados['pergunta'])\n",
    "    \n",
    "\n",
    "\n",
    "for chave,dados in dic.items():\n",
    "    print(dados['opcoes'])\n",
    "\n",
    "\n",
    "for chave,dados in dic.items():\n",
    "    print(dados['resposta'])"
   ]
  }
 ]
}