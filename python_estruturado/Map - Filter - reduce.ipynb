{
 "metadata": {
  "language_info": {
   "codemirror_mode": {
    "name": "ipython",
    "version": 3
   },
   "file_extension": ".py",
   "mimetype": "text/x-python",
   "name": "python",
   "nbconvert_exporter": "python",
   "pygments_lexer": "ipython3",
   "version": "3.8.8"
  },
  "orig_nbformat": 2,
  "kernelspec": {
   "name": "python388jvsc74a57bd0671d495510275b9dcc91f50d2a2a19008479ca761b4d66686178417f98ff21c2",
   "display_name": "Python 3.8.8  ('venv': venv)"
  }
 },
 "nbformat": 4,
 "nbformat_minor": 2,
 "cells": [
  {
   "cell_type": "code",
   "execution_count": null,
   "metadata": {},
   "outputs": [],
   "source": [
    "# Um detalhe importante:\n",
    "    # O Resultado do map e do Filter é um GEDADOR. Ou seja, você deve consumir de alguma forma."
   ]
  },
  {
   "cell_type": "code",
   "execution_count": 7,
   "metadata": {},
   "outputs": [],
   "source": [
    "produtos = [\n",
    "    {'nome':'produto1','preco':10.90,'peso':1},\n",
    "    {'nome':'produto2','preco':15.90,'peso':1},\n",
    "    {'nome':'produto3','preco':12.90,'peso':1},\n",
    "    {'nome':'produto4','preco':15.90,'peso':1},\n",
    "    {'nome':'produto5','preco':17.90,'peso':1},\n",
    "    {'nome':'produto6','preco':7.90,'peso':1},\n",
    "    {'nome':'produto7','preco':8.90,'peso':1},\n",
    "    {'nome':'produto8','preco':30.90,'peso':1},\n",
    "    {'nome':'produto9','preco':20.90,'peso':1},\n",
    "    {'nome':'produto10','preco':340.90,'peso':1},\n",
    "]"
   ]
  },
  {
   "cell_type": "code",
   "execution_count": 63,
   "metadata": {},
   "outputs": [],
   "source": [
    "# Usando a função MAP\n",
    "# A função MAP usa uma função como parâmetro para percorrer e modificar listar, disc, tuplas\n",
    "# Geralmente, é usado função anônina(lambda)"
   ]
  },
  {
   "cell_type": "code",
   "execution_count": 30,
   "metadata": {},
   "outputs": [
    {
     "output_type": "stream",
     "name": "stdout",
     "text": [
      "['PRODUTO1', 'PRODUTO2', 'PRODUTO3', 'PRODUTO4', 'PRODUTO5', 'PRODUTO6', 'PRODUTO7', 'PRODUTO8', 'PRODUTO9', 'PRODUTO10']\n['produto1', 'produto2', 'produto3', 'produto4', 'produto5', 'produto6', 'produto7', 'produto8', 'produto9', 'produto10']\n"
     ]
    }
   ],
   "source": [
    "# Primeiro Exemplo\n",
    "# retornando o nome dos produtos\n",
    "\n",
    "def nome_produtos(chave):\n",
    "    return chave['nome'].upper()\n",
    "\n",
    "soma = list(map(nome_produtos,produtos))\n",
    "print(soma)\n",
    "\n",
    "soma = list(map(lambda parametro: parametro['nome'] ,produtos))\n",
    "print(soma)\n"
   ]
  },
  {
   "cell_type": "code",
   "execution_count": 43,
   "metadata": {},
   "outputs": [
    {
     "output_type": "stream",
     "name": "stdout",
     "text": [
      "[12, 17, 14, 17, 20, 9, 10, 34, 23, 375]\n[12, 17, 14, 17, 20, 9, 10, 34, 23, 375]\n"
     ]
    }
   ],
   "source": [
    "# Acrecentando 10% aos valores\n",
    "\n",
    "nova_lista  = list(map(lambda parametro: round(parametro['preco'] * 1.10) ,produtos))\n",
    "nova_lista2 = [round(x['preco'] * 1.10) for x in produtos] # Mesmo exemplo feito com listComprehensions\n",
    "print(nova_lista)\n",
    "print(nova_lista2)\n"
   ]
  },
  {
   "cell_type": "code",
   "execution_count": 54,
   "metadata": {},
   "outputs": [
    {
     "output_type": "stream",
     "name": "stdout",
     "text": [
      "[{'nome': 'produto1', 'preco': 12, 'peso': 1}, {'nome': 'produto2', 'preco': 17, 'peso': 1}, {'nome': 'produto3', 'preco': 14, 'peso': 1}, {'nome': 'produto4', 'preco': 17, 'peso': 1}, {'nome': 'produto5', 'preco': 20, 'peso': 1}, {'nome': 'produto6', 'preco': 9, 'peso': 1}, {'nome': 'produto7', 'preco': 10, 'peso': 1}, {'nome': 'produto8', 'preco': 34, 'peso': 1}, {'nome': 'produto9', 'preco': 23, 'peso': 1}, {'nome': 'produto10', 'preco': 375, 'peso': 1}]\n"
     ]
    }
   ],
   "source": [
    "nova_lista  = list(map(lambda parametro: {**parametro,'preco':round(parametro['preco'] * 1.10)} ,produtos))\n",
    "print(nova_lista)"
   ]
  },
  {
   "cell_type": "code",
   "execution_count": 56,
   "metadata": {},
   "outputs": [
    {
     "output_type": "stream",
     "name": "stdout",
     "text": [
      "[{'preco': 12}, {'preco': 17}, {'preco': 14}, {'preco': 17}, {'preco': 20}, {'preco': 9}, {'preco': 10}, {'preco': 34}, {'preco': 23}, {'preco': 375}]\n"
     ]
    }
   ],
   "source": [
    "nova_lista  = list(map(lambda parametro: { 'preco':round(parametro['preco'] * 1.10)} ,produtos))\n",
    "print(nova_lista)"
   ]
  },
  {
   "cell_type": "code",
   "execution_count": 64,
   "metadata": {},
   "outputs": [
    {
     "output_type": "stream",
     "name": "stdout",
     "text": [
      "[{'nome': 'produto10', 'preco': 340.9, 'peso': 1}]\n"
     ]
    }
   ],
   "source": [
    "# Usando o FILTER\n",
    "# O Filter serve para você filtrar: O detalhe fica por conta de que ele retorna a linha toda;\n",
    "# O Filter também utiliza uma função como primeiro parâmetro\n",
    "\n",
    "f_produto = list(filter(lambda p: p['preco'] > 200, produtos))\n",
    "print(f_produto)"
   ]
  },
  {
   "cell_type": "code",
   "execution_count": 73,
   "metadata": {},
   "outputs": [
    {
     "output_type": "stream",
     "name": "stdout",
     "text": [
      "483.0\n"
     ]
    }
   ],
   "source": [
    "# Usando o reduce.\r\n",
    "# Reduce faz parte de uma biblioteca FUNCTOOLS\r\n",
    "# reduce(lambda, lista, valorInicial)\r\n",
    "from functools import reduce\r\n",
    "\r\n",
    "#Soma valores com reduce\r\n",
    "preco_total = reduce(lambda acumulador, valor: acumulador + valor['preco'], produtos, 0)\r\n",
    "print(precro_total)\r\n"
   ]
  }
 ]
}