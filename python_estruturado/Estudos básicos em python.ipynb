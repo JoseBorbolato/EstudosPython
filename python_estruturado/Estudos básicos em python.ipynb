{
 "cells": [
  {
   "cell_type": "code",
   "execution_count": 3,
   "metadata": {},
   "outputs": [
    {
     "name": "stdout",
     "output_type": "stream",
     "text": [
      "Verdadeiro: 3\n"
     ]
    }
   ],
   "source": [
    "# IF\n",
    "\n",
    "x = 3\n",
    "if x > 2:\n",
    "    print(f\"Verdadeiro: {x}\")"
   ]
  },
  {
   "cell_type": "code",
   "execution_count": 6,
   "metadata": {},
   "outputs": [
    {
     "name": "stdout",
     "output_type": "stream",
     "text": [
      "zero ou negativo\n"
     ]
    }
   ],
   "source": [
    "# ELIF\n",
    "\n",
    "x = 2\n",
    "if x > 2:\n",
    "    print(f\"Verdadeiro: {x}\")\n",
    "elif x == 1:\n",
    "    print(f\"Igual a UM {x}\")\n",
    "else:\n",
    "    print(\"zero ou negativo\")"
   ]
  },
  {
   "cell_type": "code",
   "execution_count": 13,
   "metadata": {},
   "outputs": [
    {
     "name": "stdout",
     "output_type": "stream",
     "text": [
      "not no IF\n"
     ]
    }
   ],
   "source": [
    "# AND OR NOT IN \n",
    "\n",
    "x = True\n",
    "\n",
    "if not x == True:\n",
    "    print('eaew')\n",
    "else:\n",
    "    print(\"not no IF\")"
   ]
  },
  {
   "cell_type": "code",
   "execution_count": 18,
   "metadata": {},
   "outputs": [
    {
     "name": "stdout",
     "output_type": "stream",
     "text": [
      "Preencha o valor de x\n",
      "preencha o valor de y\n",
      "Negou com not\n"
     ]
    }
   ],
   "source": [
    "#NOT\n",
    "\n",
    "x = ''\n",
    "y = 0\n",
    "\n",
    "if not x:\n",
    "    print(\"Preencha o valor de x\")\n",
    "    \n",
    "    \n",
    "if not y:\n",
    "    print(\"preencha o valor de y\")\n",
    "    \n",
    "if not True:\n",
    "    print(\"Verdadeiro\")\n",
    "else:\n",
    "    print(\"Negou com not\")"
   ]
  },
  {
   "cell_type": "code",
   "execution_count": 54,
   "metadata": {},
   "outputs": [
    {
     "ename": "SyntaxError",
     "evalue": "invalid syntax (<ipython-input-54-2c52150ba0e7>, line 18)",
     "output_type": "error",
     "traceback": [
      "\u001b[1;36m  File \u001b[1;32m\"<ipython-input-54-2c52150ba0e7>\"\u001b[1;36m, line \u001b[1;32m18\u001b[0m\n\u001b[1;33m    print(\"Existe a {palavra}:  na frase: ''\".format(palavra = if len(Letra) > 1: print(\"Palavra\") else: print(\"Letra\")))\u001b[0m\n\u001b[1;37m                                                               ^\u001b[0m\n\u001b[1;31mSyntaxError\u001b[0m\u001b[1;31m:\u001b[0m invalid syntax\n"
     ]
    }
   ],
   "source": [
    "# IN\n",
    "# Lembrando que o in é case sensitive\n",
    "\n",
    "\n",
    "nome = \"José Luiz\"\n",
    "Letra = 'jos'\n",
    "if Letra in nome:\n",
    "    print(f\"Existe a leta: {Letra} na frase: '{nome}'\")\n",
    "else:\n",
    "    print(f\"NÃO Existe a leta: {Letra} na frase: '{nome}'\")\n",
    "    \n",
    "print(\"\\n\\n\\n\")\n",
    "\n",
    "\n",
    "nome = \"José Luiz\"\n",
    "Letra = 'jos'\n",
    "if Letra.upper() in nome.upper():\n",
    "    print(\"Existe a {palavra}:  na frase: ''\".format(palavra = if len(Letra) > 1: print(\"Palavra\") else: print(\"Letra\")))\n",
    "else:\n",
    "    print(f\"NÃO Existe a leta: {Letra} na frase: '{nome}'\")    \n",
    "    \n"
   ]
  },
  {
   "cell_type": "code",
   "execution_count": 67,
   "metadata": {},
   "outputs": [
    {
     "name": "stdout",
     "output_type": "stream",
     "text": [
      "a diviasão é: 2.333\n"
     ]
    }
   ],
   "source": [
    "#Formatação com F ou format\n",
    "\n",
    "num1 = 7\n",
    "num2 = 3\n",
    "\n",
    "divisao = num1 / num2\n",
    "\n",
    "print(\"a diviasão é: {:.3f}\".format(divisao))"
   ]
  },
  {
   "cell_type": "code",
   "execution_count": 69,
   "metadata": {},
   "outputs": [
    {
     "name": "stdout",
     "output_type": "stream",
     "text": [
      "a diviasão é: 2.333\n"
     ]
    }
   ],
   "source": [
    "#Formatação com F ou format\n",
    "\n",
    "num1 = 7\n",
    "num2 = 3\n",
    "\n",
    "divisao = num1 / num2\n",
    "\n",
    "print(f\"a diviasão é: {divisao:.3f}\")"
   ]
  },
  {
   "cell_type": "code",
   "execution_count": 118,
   "metadata": {},
   "outputs": [
    {
     "name": "stdout",
     "output_type": "stream",
     "text": [
      "00400\n",
      "\n",
      "#####Meu nome é\n",
      "\n",
      "##Meu nome é###\n",
      "\n",
      "                                        Meu nome é\n"
     ]
    }
   ],
   "source": [
    "# :f -->  numeros com ponto (F)lutuante\n",
    "# :s -->  formatar (S)tring\n",
    "# :d -->  formatar inteiros\n",
    "\n",
    "# :CARACTER (> OU < ^) (QUANTIDADE)(TIPO -s,d ou f)\n",
    "\n",
    "nome = 'Meu nome é José Luiz Borbolato'\n",
    "num = 4\n",
    "\n",
    "print(f'{num:0^5}')\n",
    "print(f'\\n{nome[:10]:#>15}')\n",
    "print(f'\\n{nome[:10]:#^15}')\n",
    "print(f'\\n{nome[:10]:>50}')"
   ]
  },
  {
   "cell_type": "code",
   "execution_count": 1,
   "metadata": {},
   "outputs": [
    {
     "name": "stdout",
     "output_type": "stream",
     "text": [
      "[1, 2, 3, 5, 6, 7]\n"
     ]
    }
   ],
   "source": [
    "# Juntar listas\n",
    "\n",
    "l1 = [1,2,3]\n",
    "l2 = [5,6,7]\n",
    "l3 = l1 + l2\n",
    "\n",
    "print(l3)"
   ]
  },
  {
   "cell_type": "code",
   "execution_count": 5,
   "metadata": {},
   "outputs": [
    {
     "name": "stdout",
     "output_type": "stream",
     "text": [
      "[1, 2, 3, 5, 6, 7]\n"
     ]
    }
   ],
   "source": [
    "# Juntar listas\n",
    "# \"extend\"\n",
    "\n",
    "l1 = [1,2,3]\n",
    "l2 = [5,6,7]\n",
    "\n",
    "l1.extend(l2)\n",
    "print(l1)"
   ]
  },
  {
   "cell_type": "code",
   "execution_count": 7,
   "metadata": {},
   "outputs": [
    {
     "name": "stdout",
     "output_type": "stream",
     "text": [
      "[1, 2, 3, 'b']\n"
     ]
    }
   ],
   "source": [
    "#\"\"\"Append\"\"\"\n",
    "\n",
    "l1 = [1,2,3]\n",
    "l1.append('b')\n",
    "\n",
    "print(l1)"
   ]
  },
  {
   "cell_type": "code",
   "execution_count": 8,
   "metadata": {},
   "outputs": [
    {
     "name": "stdout",
     "output_type": "stream",
     "text": [
      "[1, 2, 'b', 3]\n"
     ]
    }
   ],
   "source": [
    "#\"\"\"Insert\"\"\"\n",
    "\n",
    "l1 = [1,2,3]\n",
    "l1.insert(2,'b')\n",
    "\n",
    "print(l1)"
   ]
  },
  {
   "cell_type": "code",
   "execution_count": 16,
   "metadata": {},
   "outputs": [
    {
     "name": "stdout",
     "output_type": "stream",
     "text": [
      "[1, 2, 3, 4]\n"
     ]
    }
   ],
   "source": [
    "lista = list(range(1,5))\n",
    "print(lista)"
   ]
  },
  {
   "cell_type": "code",
   "execution_count": 17,
   "metadata": {},
   "outputs": [
    {
     "name": "stdout",
     "output_type": "stream",
     "text": [
      "['B', 'a', 'n', 'a', 'n', 'a']\n"
     ]
    }
   ],
   "source": [
    "lista = list('Banana')\n",
    "print(lista)"
   ]
  },
  {
   "cell_type": "code",
   "execution_count": 19,
   "metadata": {},
   "outputs": [
    {
     "name": "stdout",
     "output_type": "stream",
     "text": [
      "J\n",
      "o\n",
      "s\n",
      "é\n",
      " \n",
      "L\n",
      "u\n",
      "i\n",
      "z\n",
      " \n",
      "B\n",
      "o\n",
      "r\n",
      "b\n",
      "o\n",
      "l\n",
      "a\n",
      "t\n",
      "o\n"
     ]
    }
   ],
   "source": [
    "lista = list(\"José Luiz Borbolato\")\n",
    "for x in lista:\n",
    "    print(x)"
   ]
  },
  {
   "cell_type": "code",
   "execution_count": 21,
   "metadata": {},
   "outputs": [
    {
     "name": "stdout",
     "output_type": "stream",
     "text": [
      "Informe um valor: 1\n",
      "['1']\n",
      "Informe um valor: 2\n",
      "['1', '2']\n",
      "Informe um valor: banana\n",
      "['1', '2', 'banana']\n",
      "Informe um valor: abacate\n",
      "['1', '2', 'banana', 'abacate']\n",
      "Informe um valor: sair\n",
      "['1', '2', 'banana', 'abacate']\n"
     ]
    }
   ],
   "source": [
    "lista = []\n",
    "while True:\n",
    "    x = (input(\"Informe um valor: \"))\n",
    "    if x =='sair':\n",
    "        print(lista)\n",
    "        break\n",
    "    lista.append(x)\n",
    "    print(lista)\n"
   ]
  }
 ],
 "metadata": {
  "kernelspec": {
   "display_name": "Python 3",
   "language": "python",
   "name": "python3"
  },
  "language_info": {
   "codemirror_mode": {
    "name": "ipython",
    "version": 3
   },
   "file_extension": ".py",
   "mimetype": "text/x-python",
   "name": "python",
   "nbconvert_exporter": "python",
   "pygments_lexer": "ipython3",
   "version": "3.8.5"
  }
 },
 "nbformat": 4,
 "nbformat_minor": 4
}
