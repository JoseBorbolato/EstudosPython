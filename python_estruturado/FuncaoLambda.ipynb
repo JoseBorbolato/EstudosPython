{
 "metadata": {
  "language_info": {
   "codemirror_mode": {
    "name": "ipython",
    "version": 3
   },
   "file_extension": ".py",
   "mimetype": "text/x-python",
   "name": "python",
   "nbconvert_exporter": "python",
   "pygments_lexer": "ipython3",
   "version": "3.8.5"
  },
  "orig_nbformat": 2,
  "kernelspec": {
<<<<<<< HEAD:python_estruturado/FuncaoLambda.ipynb
   "name": "python3",
   "display_name": "Python 3.8.8 64-bit ('venv': venv)"
=======
   "name": "python385jvsc74a57bd0b3ba2566441a7c06988d0923437866b63cedc61552a5af99d1f4fb67d367b25f",
   "display_name": "Python 3.8.5 64-bit ('base': conda)"
>>>>>>> af78c12a93f93bcbb0e778febc1a4198396413ab:CodigosEstudos/FuncaoLambda.ipynb
  },
  "metadata": {
   "interpreter": {
    "hash": "cdc7a139b4d384248ebebcb6f81cea7eacfa44dfee8fdbc3f9fdf8dc32362c5b"
   }
  },
  "interpreter": {
   "hash": "671d495510275b9dcc91f50d2a2a19008479ca761b4d66686178417f98ff21c2"
  }
 },
 "nbformat": 4,
 "nbformat_minor": 2,
 "cells": [
  {
<<<<<<< HEAD:python_estruturado/FuncaoLambda.ipynb
=======
   "cell_type": "code",
   "execution_count": 8,
   "metadata": {},
   "outputs": [],
>>>>>>> af78c12a93f93bcbb0e778febc1a4198396413ab:CodigosEstudos/FuncaoLambda.ipynb
   "source": [
    "# FUNÇÃO ANÔNIMA\n",
    "# Expressão Lambda\n",
    "# O conceito em si é bastante simples: consiste em uma função que é atribuida a um objeto. Por conter a palavra reservada lambda o \"objeto se comportará como uma função\"\n",
    "\n",
    "#Funções lambda não utilizam a palavra reservada return."
   ],
   "cell_type": "code",
   "metadata": {},
   "execution_count": null,
   "outputs": []
  },
  {
   "cell_type": "code",
   "execution_count": 9,
   "metadata": {},
   "outputs": [
    {
     "output_type": "execute_result",
     "data": {
      "text/plain": [
       "2"
      ]
     },
     "metadata": {},
     "execution_count": 9
    }
   ],
   "source": [
    "x = lambda: 1 + 1\n",
    "x()"
   ]
  },
  {
   "cell_type": "code",
   "execution_count": 10,
   "metadata": {},
   "outputs": [
    {
     "output_type": "execute_result",
     "data": {
      "text/plain": [
       "20"
      ]
     },
     "metadata": {},
     "execution_count": 10
    }
   ],
   "source": [
    "#função qualquer\n",
    "def fun(x):\n",
    "    return x + 10\n",
    "\n",
    "fun(10)"
   ]
  },
  {
   "cell_type": "code",
   "execution_count": 26,
   "metadata": {},
   "outputs": [
    {
     "output_type": "execute_result",
     "data": {
      "text/plain": [
       "20"
      ]
     },
     "metadata": {},
     "execution_count": 26
    }
   ],
   "source": [
    "#mesma função só que usando lambda\n",
    "\n",
    "minhafunc = lambda x=5: x + 10\n",
    "\n",
    "minhafunc(10)"
   ]
  },
  {
   "cell_type": "code",
   "execution_count": 11,
   "metadata": {},
   "outputs": [
    {
     "output_type": "execute_result",
     "data": {
      "text/plain": [
       "11"
      ]
     },
     "metadata": {},
     "execution_count": 11
    }
   ],
   "source": [
    "x = lambda args : args + 10\n",
    "x(1)"
   ]
  },
  {
   "cell_type": "code",
   "execution_count": 14,
   "metadata": {},
   "outputs": [
    {
     "output_type": "execute_result",
     "data": {
      "text/plain": [
       "11"
      ]
     },
     "metadata": {},
     "execution_count": 14
    }
   ],
   "source": [
    "# Lambda com varios parâmetros\n",
    "\n",
    "func = lambda parametro1, parametro2, parametro3: parametro1+2+parametro2+3+parametro3\n",
    "func(2,2,2)"
   ]
  },
  {
   "cell_type": "code",
   "execution_count": 24,
   "metadata": {},
   "outputs": [
    {
     "output_type": "stream",
     "name": "stdout",
     "text": [
      "(1, 2, 3, 4)\n"
     ]
    }
   ],
   "source": [
    "func = lambda *args: print(args) # Lembrando que o *args é convertido em uma tupla\n",
    "func(1,2,3,4)"
   ]
  },
  {
   "cell_type": "code",
   "execution_count": 32,
   "metadata": {},
   "outputs": [
    {
     "output_type": "execute_result",
     "data": {
      "text/plain": [
       "[2, 3, 4]"
      ]
     },
     "metadata": {},
     "execution_count": 32
    }
   ],
   "source": [
    "func = lambda *args: [x for x in args]\n",
    "func(2,3,4)"
   ]
  },
  {
   "cell_type": "code",
   "execution_count": 35,
   "metadata": {},
   "outputs": [
    {
     "output_type": "execute_result",
     "data": {
      "text/plain": [
       "7"
      ]
     },
     "metadata": {},
     "execution_count": 35
    }
   ],
   "source": [
    "func = lambda *args: sum([x for x in args])\n",
    "func(2,2,3)"
   ]
  }
 ]
}