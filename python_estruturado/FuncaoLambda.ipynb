{
 "metadata": {
  "language_info": {
   "codemirror_mode": {
    "name": "ipython",
    "version": 3
   },
   "file_extension": ".py",
   "mimetype": "text/x-python",
   "name": "python",
   "nbconvert_exporter": "python",
   "pygments_lexer": "ipython3",
   "version": "3.8.8"
  },
  "orig_nbformat": 2,
  "kernelspec": {
   "name": "python3",
   "display_name": "Python 3.8.8 64-bit ('venv': venv)"
  },
  "metadata": {
   "interpreter": {
    "hash": "cdc7a139b4d384248ebebcb6f81cea7eacfa44dfee8fdbc3f9fdf8dc32362c5b"
   }
  },
  "interpreter": {
   "hash": "671d495510275b9dcc91f50d2a2a19008479ca761b4d66686178417f98ff21c2"
  }
 },
 "nbformat": 4,
 "nbformat_minor": 2,
 "cells": [
  {
   "source": [
    "# FUNÇÃO ANÔNIMA\r\n",
    "# Expressão Lambda\r\n",
    "# O conceito em si é bastante simples: consiste em uma função que é atribuida a um objeto. Por conter a palavra reservada lambda o \"objeto se comportará como uma função\"\r\n",
    "\r\n",
    "#Funções lambda não utilizam a palavra reservada return."
   ],
   "cell_type": "code",
   "metadata": {},
   "execution_count": null,
   "outputs": []
  },
  {
   "cell_type": "code",
   "execution_count": 42,
   "metadata": {},
   "outputs": [
    {
     "output_type": "execute_result",
     "data": {
      "text/plain": [
       "20"
      ]
     },
     "metadata": {},
     "execution_count": 42
    }
   ],
   "source": [
    "#função qualquer\n",
    "\n",
    "def fun(x):\n",
    "    return x + 10\n",
    "\n",
    "fun(10)\n"
   ]
  },
  {
   "cell_type": "code",
   "execution_count": 26,
   "metadata": {},
   "outputs": [
    {
     "output_type": "execute_result",
     "data": {
      "text/plain": [
       "20"
      ]
     },
     "metadata": {},
     "execution_count": 26
    }
   ],
   "source": [
    "#mesma função só que usando lambda\n",
    "\n",
    "minhafunc = lambda x=5: x + 10\n",
    "\n",
    "minhafunc(10)"
   ]
  },
  {
   "cell_type": "code",
   "execution_count": 41,
   "metadata": {},
   "outputs": [
    {
     "output_type": "execute_result",
     "data": {
      "text/plain": [
       "11"
      ]
     },
     "metadata": {},
     "execution_count": 41
    }
   ],
   "source": [
    "\n",
    "x = lambda args : args + 10\n",
    "\n",
    "x(1)"
   ]
  }
 ]
}