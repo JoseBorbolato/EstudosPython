{
 "metadata": {
  "language_info": {
   "codemirror_mode": {
    "name": "ipython",
    "version": 3
   },
   "file_extension": ".py",
   "mimetype": "text/x-python",
   "name": "python",
   "nbconvert_exporter": "python",
   "pygments_lexer": "ipython3",
   "version": "3.9.4"
  },
  "orig_nbformat": 2,
  "kernelspec": {
   "name": "pythonjvsc74a57bd0671d495510275b9dcc91f50d2a2a19008479ca761b4d66686178417f98ff21c2",
   "display_name": "Python 3.9.4 64-bit ('venv': venv)"
  },
  "metadata": {
   "interpreter": {
    "hash": "671d495510275b9dcc91f50d2a2a19008479ca761b4d66686178417f98ff21c2"
   }
  }
 },
 "nbformat": 4,
 "nbformat_minor": 2,
 "cells": [
  {
   "cell_type": "code",
   "execution_count": null,
   "metadata": {},
   "outputs": [],
   "source": []
  }
 ]
}