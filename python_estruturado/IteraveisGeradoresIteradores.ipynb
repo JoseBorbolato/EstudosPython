{
 "metadata": {
  "language_info": {
   "codemirror_mode": {
    "name": "ipython",
    "version": 3
   },
   "file_extension": ".py",
   "mimetype": "text/x-python",
   "name": "python",
   "nbconvert_exporter": "python",
   "pygments_lexer": "ipython3",
   "version": "3.9.4"
  },
  "orig_nbformat": 2,
  "kernelspec": {
   "name": "pythonjvsc74a57bd0671d495510275b9dcc91f50d2a2a19008479ca761b4d66686178417f98ff21c2",
   "display_name": "Python 3.9.4  ('venv': venv)"
  },
  "metadata": {
   "interpreter": {
    "hash": "671d495510275b9dcc91f50d2a2a19008479ca761b4d66686178417f98ff21c2"
   }
  }
 },
 "nbformat": 4,
 "nbformat_minor": 2,
 "cells": [
  {
   "cell_type": "code",
   "execution_count": 50,
   "metadata": {},
   "outputs": [],
   "source": [
    "# Estudos sobre OBJETOS ITERAVEIS, ITERADORES E GERADORES"
   ]
  },
  {
   "cell_type": "code",
   "execution_count": 51,
   "metadata": {},
   "outputs": [
    {
     "output_type": "stream",
     "name": "stdout",
     "text": [
      "A lista é iterável?:  True\nUm número inteiro é iterável ?:  False\nUm Booleano é iterável ?:  False\nUm Dicionário é iterável ?:  True\n"
     ]
    }
   ],
   "source": [
    "# como saber se um Obejto é Iterável ???\n",
    "# Usando o hasattr(lista,'__iter__')\n",
    "\n",
    "###############################################################\n",
    "# Sempre que um objeto for iterável, significa que eu posso\n",
    "# percorrer o objeto, usando um FOR por exemplo.\n",
    "\n",
    "# Mas tem outro detalhe que nos faz entrar no proximo tópico:\n",
    "###############################################################\n",
    "\n",
    "lista = [1,2,3]\n",
    "print('A lista é iterável?: ',hasattr(lista,'__iter__'))\n",
    "\n",
    "lista = 12\n",
    "print('Um número inteiro é iterável ?: ',hasattr(lista,'__iter__'))\n",
    "\n",
    "lista = True\n",
    "print('Um Booleano é iterável ?: ',hasattr(lista,'__iter__'))\n",
    "\n",
    "lista = {'Chave','valor'}\n",
    "print('Um Dicionário é iterável ?: ',hasattr(lista,'__iter__'))"
   ]
  },
  {
   "cell_type": "code",
   "execution_count": 52,
   "metadata": {},
   "outputs": [
    {
     "output_type": "stream",
     "name": "stdout",
     "text": [
      "A lista é um iterador?:  False\nUm número inteiro é um iterador?:  False\nUm Booleano é um iterador?:  False\nUm Dicionário é um iterador?:  False\n"
     ]
    }
   ],
   "source": [
    "# O For transforma a nossa lista num ITERADOR.\n",
    "# Por exemplo, a lista não comtem o método __next__\n",
    "# Se ela tivesse, seria um iterador\n",
    "\n",
    "# Podemos comprovar isso usando o mesmo método hasattr('','__next__')\n",
    "\n",
    "lista = [1,2,3]\n",
    "print('A lista é um iterador?: ',hasattr(lista,'__next__'))\n",
    "\n",
    "lista = 12\n",
    "print('Um número inteiro é um iterador?: ',hasattr(lista,'__next__'))\n",
    "\n",
    "lista = True\n",
    "print('Um Booleano é um iterador?: ',hasattr(lista,'__next__'))\n",
    "\n",
    "lista = {'Chave','valor'}\n",
    "print('Um Dicionário é um iterador?: ',hasattr(lista,'__next__'))\n",
    "\n",
    "#Ou seja, nenhum deles tem o método __next__"
   ]
  },
  {
   "cell_type": "code",
   "execution_count": 53,
   "metadata": {},
   "outputs": [
    {
     "output_type": "stream",
     "name": "stdout",
     "text": [
      "A lista é um iteravel?:  True\nA lista é um iterador?:  False\nDepois de usar o método iter() a lista virou um iterador?:  True\n"
     ]
    }
   ],
   "source": [
    "###########################################################################\n",
    "# o que o FOR faz para transformar meu iteravel num iterador é usar o método\n",
    "# ITER()\n",
    "###########################################################################\n",
    "\n",
    "\n",
    "lista = [1,2,3]\n",
    "print('A lista é um iteravel?: ',hasattr(lista,'__iter__'))\n",
    "lista = [1,2,3]\n",
    "print('A lista é um iterador?: ',hasattr(lista,'__next__'))\n",
    "lista = iter(lista)\n",
    "print('Depois de usar o método iter() a lista virou um iterador?: ',hasattr(lista,'__next__'))\n",
    "\n"
   ]
  },
  {
   "cell_type": "code",
   "execution_count": 54,
   "metadata": {},
   "outputs": [
    {
     "output_type": "stream",
     "name": "stdout",
     "text": [
      "<list_iterator object at 0x000001C1497D0610>\n1\n2\n3\n"
     ]
    }
   ],
   "source": [
    "#aGORA PODEMOS USAR O MÉTODO ->   next(lista)\n",
    "print(lista)\n",
    "print(next(lista))\n",
    "print(next(lista))\n",
    "print(next(lista))\n"
   ]
  },
  {
   "cell_type": "code",
   "execution_count": 67,
   "metadata": {},
   "outputs": [
    {
     "output_type": "stream",
     "name": "stdout",
     "text": [
      "1 3 6 9\n"
     ]
    }
   ],
   "source": [
    "# O conceito de iteravel e iterador serve para explicar o porque a gente usa um GERADOR\n",
    "# YIELD\n",
    "# O Yield cria um generator, ou seja, cria uma lista de dados que vão sendo consumidos sob demanda.\n",
    "\n",
    "def gerador():\n",
    "    yield 1\n",
    "    yield 3\n",
    "    yield 6\n",
    "    yield 9\n",
    "\n",
    "g = gerador()\n",
    "\n",
    "print(next(g),next(g),next(g),next(g))\n"
   ]
  },
  {
   "cell_type": "code",
   "execution_count": 70,
   "metadata": {},
   "outputs": [
    {
     "output_type": "stream",
     "name": "stdout",
     "text": [
      "1\n3\n6\n9\n"
     ]
    }
   ],
   "source": [
    "# A melhor forma de usar um gerador é com um laço de repetição.\n",
    "#FOR ou WHILE, porque eles usam o método next\n",
    "\n",
    "def gerador():\n",
    "    yield 1\n",
    "    yield 3\n",
    "    yield 6\n",
    "    yield 9\n",
    "\n",
    "g = gerador()\n",
    "\n",
    "for x in g:\n",
    "    print(x)"
   ]
  },
  {
   "cell_type": "code",
   "execution_count": 76,
   "metadata": {},
   "outputs": [
    {
     "output_type": "stream",
     "name": "stdout",
     "text": [
      "<class 'list'> 85176\n<class 'generator'> 112\n"
     ]
    }
   ],
   "source": [
    "import sys\n",
    "# Usado gerador com # COMPREHENSIONS\n",
    "# devemus usar Parênteses ou invéz de couchetes\n",
    "\n",
    "\n",
    "l1 = [x for x in range(10000)]\n",
    "print(type(l1), sys.getsizeof(l1))\n",
    "\n",
    "l2 = (x for x in range(10000))\n",
    "print(type(l2), sys.getsizeof(l2))\n",
    "\n"
   ]
  },
  {
   "cell_type": "code",
   "execution_count": 82,
   "metadata": {},
   "outputs": [
    {
     "output_type": "stream",
     "name": "stdout",
     "text": [
      "<class 'generator'> 112\n<class 'list'> 216\n"
     ]
    }
   ],
   "source": [
    "def gerador(nome):\n",
    "    \n",
    "    #return (x for x in nome) # Primeiro forma\n",
    "\n",
    "    for x in nome: # Segunda forma\n",
    "        yield x\n",
    "    \n",
    "\n",
    "l1 = gerador('José Luiz Borbolato')\n",
    "print(type(l1), sys.getsizeof(l1))\n",
    "\n",
    "l2 = ['J','o','s','é',' ','L','u','i','z',' ','B','o','r','b','o','l','a','t','o']\n",
    "print(type(l2), sys.getsizeof(l2))\n"
   ]
  },
  {
   "cell_type": "code",
   "execution_count": 91,
   "metadata": {},
   "outputs": [],
   "source": [
    "# SUBGerador\n",
    "\n",
    "def subCapitulo():\n",
    "    yield 1.1\n",
    "    yield 1.2\n",
    "    yield 1.3\n",
    "\n",
    "def capitulo():\n",
    "    yield 1\n",
    "    yield from subCapitulo()\n",
    "    yield 2\n",
    "    yield 3"
   ]
  },
  {
   "cell_type": "code",
   "execution_count": 88,
   "metadata": {},
   "outputs": [
    {
     "output_type": "stream",
     "name": "stdout",
     "text": [
      "1\n1.1\n1.2\n1.3\n2\n3\n"
     ]
    }
   ],
   "source": [
    "g = capitulo()\n",
    "print(next(g))\n",
    "print(next(g))\n",
    "print(next(g))\n",
    "print(next(g))\n",
    "print(next(g))\n",
    "print(next(g))"
   ]
  },
  {
   "cell_type": "code",
   "execution_count": 92,
   "metadata": {},
   "outputs": [
    {
     "output_type": "stream",
     "name": "stdout",
     "text": [
      "1\n1.1\n1.2\n1.3\n2\n3\n"
     ]
    }
   ],
   "source": [
    "for x in capitulo():\n",
    "    print(x)"
   ]
  }
 ]
}