{
 "metadata": {
  "language_info": {
   "codemirror_mode": {
    "name": "ipython",
    "version": 3
   },
   "file_extension": ".py",
   "mimetype": "text/x-python",
   "name": "python",
   "nbconvert_exporter": "python",
   "pygments_lexer": "ipython3",
   "version": "3.8.8"
  },
  "orig_nbformat": 4,
  "kernelspec": {
   "name": "python3",
   "display_name": "Python 3.8.8 64-bit ('venv': venv)"
  },
  "interpreter": {
   "hash": "671d495510275b9dcc91f50d2a2a19008479ca761b4d66686178417f98ff21c2"
  }
 },
 "nbformat": 4,
 "nbformat_minor": 2,
 "cells": [
  {
   "source": [
    "# titulo\n",
    "## subtitulo\n",
    "\n",
    "### lista\n",
    "- item\n",
    "- item\n",
    "- item\n",
    "    - item\n",
    "    - item\n",
    "\n",
    "1. numerado\n",
    "1. numerado\n",
    "1. numerado\n",
    "\n",
    "meu exemplo de for: `for x in range(5):`\n",
    "\n",
    "### bloco de código maior\n",
    "```\n",
    "for x in range(5):\n",
    "    pass\n",
    "```\n",
    "\n",
    "> citação   \n",
    "> uhuhuhh   \n",
    "> hhuhuh  \n",
    "> jijijij\n",
    "\n",
    "---\n",
    "linha de separação   \n",
    "\n",
    "---\n",
    "ghg\n",
    "\n",
    "<center><b>negrito</b></center>   \n",
    "<i>italico</i>\n",
    "\n",
    "***teste***"
   ],
   "cell_type": "markdown",
   "metadata": {}
  }
 ]
}