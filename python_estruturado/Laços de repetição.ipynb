{
 "cells": [
  {
   "cell_type": "code",
   "execution_count": 1,
   "metadata": {},
   "outputs": [
    {
     "name": "stdout",
     "output_type": "stream",
     "text": [
      "Qual o seu nome? eaew\n",
      "Olá eaew\n",
      "Qual o seu nome? eaewd\n",
      "Olá eaewd\n",
      "Qual o seu nome? José\n",
      "Olá José\n"
     ]
    }
   ],
   "source": [
    "# while -> Enquanto\n",
    "# Observe que eu usei o \"break\" para PARAR o laço.\n",
    "\n",
    "\n",
    "\n",
    "while True:\n",
    "    nome = input('Qual o seu nome? ')\n",
    "    print(f'Olá {nome}')\n",
    "    if nome == 'José':\n",
    "        break"
   ]
  },
  {
   "cell_type": "code",
   "execution_count": 11,
   "metadata": {},
   "outputs": [
    {
     "name": "stdout",
     "output_type": "stream",
     "text": [
      "0\n",
      "1\n",
      "2\n",
      "3\n",
      "4\n",
      "6\n",
      "7\n",
      "8\n",
      "9\n",
      "10\n"
     ]
    }
   ],
   "source": [
    "# Comando 'continue' no laço de repetição\n",
    "# Quando o interpretador encontra a paravra \"continue\"\n",
    "# ele ignora o codigo seguinte dentro do laço e continua a execução do laço.\n",
    "\n",
    "x = 0\n",
    "while x <= 10: \n",
    "   \n",
    "    # nesse bloco, se for igual a 5 não vai imprimir\n",
    "    # Por consequencia, todo bloco pra baixo do 'continue' não sera executado\n",
    "    if x == 5:\n",
    "        x = x + 1\n",
    "        continue\n",
    "        \n",
    "    \n",
    "    \n",
    "    print(x)\n",
    "    x = x + 1\n"
   ]
  },
  {
   "cell_type": "code",
   "execution_count": 21,
   "metadata": {},
   "outputs": [
    {
     "name": "stdout",
     "output_type": "stream",
     "text": [
      "Número: 1\n",
      "Número: 2\n",
      "Número: 3\n",
      "Número: 4\n",
      "Número: 5\n",
      "Número: 6\n",
      "Número: 7\n",
      "Número: 8\n",
      "Número: 9\n",
      "Número: 10\n",
      "A condição do while ficou FALSA. Agora é executado o else.\n"
     ]
    }
   ],
   "source": [
    "# Ainda falando do While, é possível usar o \"ELSE\" no while\n",
    "# Vamos ver um exemplo:\n",
    "\n",
    "cont = 1\n",
    "while cont <= 10:\n",
    "    \n",
    "    print(f'Número: {cont}')\n",
    "    cont += 1\n",
    "\n",
    "else:\n",
    "    print('A condição do while ficou FALSA. Agora é executado o else.')\n",
    "    \n",
    "#Atenção: Se for usado o break, o bloco ELSE não será executado"
   ]
  },
  {
   "cell_type": "code",
   "execution_count": 30,
   "metadata": {},
   "outputs": [
    {
     "name": "stdout",
     "output_type": "stream",
     "text": [
      "0\n",
      "1\n",
      "2\n",
      "3\n",
      "4\n",
      "5\n",
      "6\n",
      "7\n",
      "8\n",
      "9\n"
     ]
    }
   ],
   "source": [
    "# Laço For\n",
    "# range(start,stop, step)\n",
    "# O parâmetro stop não é incluído !!\n",
    "for n in range(10):\n",
    "    print(n)"
   ]
  },
  {
   "cell_type": "code",
   "execution_count": 31,
   "metadata": {},
   "outputs": [
    {
     "name": "stdout",
     "output_type": "stream",
     "text": [
      "0\n",
      "2\n",
      "4\n",
      "6\n",
      "8\n"
     ]
    }
   ],
   "source": [
    "# range(start,stop, step)\n",
    "# O parâmetro stop não é incluído !!\n",
    "for n in range(0,10,2):\n",
    "    print(n)"
   ]
  },
  {
   "cell_type": "code",
   "execution_count": 32,
   "metadata": {},
   "outputs": [
    {
     "name": "stdout",
     "output_type": "stream",
     "text": [
      "20\n",
      "19\n",
      "18\n",
      "17\n",
      "16\n",
      "15\n",
      "14\n",
      "13\n",
      "12\n",
      "11\n"
     ]
    }
   ],
   "source": [
    "# range(start,stop, step)\n",
    "# O parâmetro stop não é incluído !!\n",
    "for n in range(20,10,-1):\n",
    "    print(n)"
   ]
  }
 ],
 "metadata": {
  "kernelspec": {
   "name": "python388jvsc74a57bd060da6c3a98c804a23a9f7329a340382fd06ee66ae13e4d7dd1b020938b09ca47",
   "display_name": "Python 3.8.8 64-bit ('base': conda)"
  },
  "language_info": {
   "codemirror_mode": {
    "name": "ipython",
    "version": 3
   },
   "file_extension": ".py",
   "mimetype": "text/x-python",
   "name": "python",
   "nbconvert_exporter": "python",
   "pygments_lexer": "ipython3",
   "version": "3.8.8"
  }
 },
 "nbformat": 4,
 "nbformat_minor": 4
}