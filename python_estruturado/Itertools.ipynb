{
 "metadata": {
  "language_info": {
   "codemirror_mode": {
    "name": "ipython",
    "version": 3
   },
   "file_extension": ".py",
   "mimetype": "text/x-python",
   "name": "python",
   "nbconvert_exporter": "python",
   "pygments_lexer": "ipython3",
   "version": "3.8.8"
  },
  "orig_nbformat": 2,
  "kernelspec": {
   "name": "pythonjvsc74a57bd0671d495510275b9dcc91f50d2a2a19008479ca761b4d66686178417f98ff21c2",
   "display_name": "Python 3.8.8  ('venv': venv)"
  },
  "metadata": {
   "interpreter": {
    "hash": "671d495510275b9dcc91f50d2a2a19008479ca761b4d66686178417f98ff21c2"
   }
  }
 },
 "nbformat": 4,
 "nbformat_minor": 2,
 "cells": [
  {
   "cell_type": "code",
   "execution_count": 17,
   "metadata": {},
   "outputs": [],
   "source": [
    "import itertools as it\n",
    "\n",
    "# O Itertools é uma biblioteca que disponibiliza várias funções iteráveis"
   ]
  },
  {
   "cell_type": "code",
   "execution_count": 18,
   "metadata": {},
   "outputs": [
    {
     "output_type": "stream",
     "name": "stdout",
     "text": [
      "José\nJosé\nJosé\n"
     ]
    }
   ],
   "source": [
    "# REPEAT\n",
    "\n",
    "var = it.repeat('José',3)\n",
    "print(next(var))\n",
    "print(next(var))\n",
    "print(next(var))"
   ]
  },
  {
   "cell_type": "code",
   "execution_count": 64,
   "metadata": {},
   "outputs": [
    {
     "output_type": "stream",
     "name": "stdout",
     "text": [
      "0\n1\n2\n\n -5\n-6\n-7\n"
     ]
    }
   ],
   "source": [
    "# Count\n",
    "# O contador é uma sequencia sem fim !\n",
    "# É diferente do range() que tem inicio e fim\n",
    "\n",
    "contador = it.count()\n",
    "print(next(contador))\n",
    "print(next(contador))\n",
    "print(next(contador))\n",
    "\n",
    "contadorNEG = it.count(start=-5, step=-1)\n",
    "print('\\n',next(contadorNEG))\n",
    "print(next(contadorNEG))\n",
    "print(next(contadorNEG))"
   ]
  },
  {
   "cell_type": "code",
   "execution_count": 60,
   "metadata": {},
   "outputs": [
    {
     "output_type": "stream",
     "name": "stdout",
     "text": [
      "[(0, 'José'), (1, 'luiz'), (2, 'borbolato')]\n[(0, 'José'), (1, 'luiz'), (2, 'borbolato')]\n"
     ]
    }
   ],
   "source": [
    "# Usando listComprehendion para colocar um \"indice\" na lista\n",
    "\n",
    "lista = ['José','luiz','borbolato']\n",
    "contador = it.count()\n",
    "\n",
    "lista2 = [(next(contador), x) for x in lista]\n",
    "print(lista2)\n",
    "\n",
    "# Forma mais simples\n",
    "lista = list(zip(it.count(),lista))\n",
    "print(lista)"
   ]
  },
  {
   "cell_type": "code",
   "execution_count": 44,
   "metadata": {},
   "outputs": [
    {
     "output_type": "stream",
     "name": "stdout",
     "text": [
      "A\nB\nC\nD\n"
     ]
    }
   ],
   "source": [
    "cycle = it.cycle('ABCD')\n",
    "\n",
    "print(next(cycle))\n",
    "print(next(cycle))\n",
    "print(next(cycle))\n",
    "print(next(cycle))"
   ]
  },
  {
   "cell_type": "code",
   "execution_count": 54,
   "metadata": {},
   "outputs": [
    {
     "output_type": "stream",
     "name": "stdout",
     "text": [
      "(1, 5)\n(2, 4)\n(3, 3)\n(4, 2)\n(5, None)\n(6, None)\n(7, None)\n"
     ]
    }
   ],
   "source": [
    "Unindo listas com zip_longest\n",
    "l1 = [1,2,3,4,5,6,7]\n",
    "l2 = [5,4,3,2]\n",
    "\n",
    "l3 = it.zip_longest(l1,l2)\n",
    "\n",
    "print(next(l3))\n",
    "print(next(l3))\n",
    "print(next(l3))\n",
    "print(next(l3))\n",
    "print(next(l3))\n",
    "print(next(l3))\n",
    "print(next(l3))\n",
    "\n"
   ]
  }
 ]
}