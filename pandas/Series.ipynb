{
 "metadata": {
  "language_info": {
   "codemirror_mode": {
    "name": "ipython",
    "version": 3
   },
   "file_extension": ".py",
   "mimetype": "text/x-python",
   "name": "python",
   "nbconvert_exporter": "python",
   "pygments_lexer": "ipython3",
   "version": "3.8.8"
  },
  "orig_nbformat": 4,
  "kernelspec": {
   "name": "python3",
   "display_name": "Python 3.8.8 64-bit ('venv': venv)"
  },
  "interpreter": {
   "hash": "671d495510275b9dcc91f50d2a2a19008479ca761b4d66686178417f98ff21c2"
  }
 },
 "nbformat": 4,
 "nbformat_minor": 2,
 "cells": [
  {
   "cell_type": "code",
   "execution_count": 111,
   "metadata": {},
   "outputs": [],
   "source": [
    "import pandas as pd\n",
    "import numpy as np"
   ]
  },
  {
   "cell_type": "code",
   "execution_count": 9,
   "metadata": {},
   "outputs": [
    {
     "output_type": "stream",
     "name": "stdout",
     "text": [
      "0      José\n1    jordan\n2     Jhony\ndtype: object\n"
     ]
    }
   ],
   "source": [
    "# Minha primeira série\n",
    "# Repare que eu não defini indice, então ele usa o indice padrão\n",
    "\n",
    "s = pd.Series(['José','jordan','Jhony'])\n",
    "\n",
    "print(s)"
   ]
  },
  {
   "cell_type": "code",
   "execution_count": 31,
   "metadata": {},
   "outputs": [
    {
     "output_type": "stream",
     "name": "stdout",
     "text": [
      "3      José\n4    jordan\n5     Jhony\ndtype: object \n\n['José' 'jordan' 'Jhony'] \n\n<PandasArray>\n['José', 'jordan', 'Jhony']\nLength: 3, dtype: object \n\nInt64Index([3, 4, 5], dtype='int64') \n\n[3 4 5] \n\n"
     ]
    }
   ],
   "source": [
    "# Minha primeira série\n",
    "s = pd.Series(['José','jordan','Jhony'], index=[3,4,5])\n",
    "\n",
    "print(s,'\\n')\n",
    "\n",
    "print(s.values,'\\n') #Valores\n",
    "\n",
    "print(s.array,'\\n')\n",
    "\n",
    "print(s.index,'\\n')\n",
    "\n",
    "print(s.index.values,'\\n') # Index"
   ]
  },
  {
   "cell_type": "code",
   "execution_count": 50,
   "metadata": {},
   "outputs": [
    {
     "output_type": "stream",
     "name": "stdout",
     "text": [
      "['José']\n['Jhony']\n"
     ]
    }
   ],
   "source": [
    "#Usando filtro\n",
    "\n",
    "s = pd.Series(['José','jordan','Jhony'], index=[3,4,5])\n",
    "\n",
    "print(s[s == 'José'].values) #serie[serie > Filtro]\n",
    "print(s[s.index == 5].values)"
   ]
  },
  {
   "cell_type": "code",
   "execution_count": 55,
   "metadata": {},
   "outputs": [
    {
     "output_type": "stream",
     "name": "stdout",
     "text": [
      "True\nFalse\n"
     ]
    }
   ],
   "source": [
    "s = pd.Series(['José','jordan','Jhony'], index=[3,4,5])\n",
    "\n",
    "print( 'José' in s.values )\n",
    "print( 10 in s )"
   ]
  },
  {
   "cell_type": "code",
   "execution_count": 112,
   "metadata": {},
   "outputs": [
    {
     "output_type": "stream",
     "name": "stdout",
     "text": [
      "José           Jogador de counter-strike\nJohnny                      Motociclista\nJordan                jogador de futebol\nBruno     [jogador de futebol, skatista]\ncesar                                NaN\ndtype: object \n\nBruno    [jogador de futebol, skatista]\ndtype: object\n"
     ]
    }
   ],
   "source": [
    "# Usando dicionário para fazer série\n",
    "\n",
    "\n",
    "dic = {\n",
    "    'José'  : 'Jogador de counter-strike',\n",
    "    'Johnny': 'Motociclista',\n",
    "    'Jordan': 'jogador de futebol',\n",
    "    'Bruno' : ['jogador de futebol','skatista'],\n",
    "    'cesar' : np.NaN\n",
    "}\n",
    "\n",
    "s = pd.Series(dic)\n",
    "\n",
    "# Tudo que é chave vira indice\n",
    "print( s ,'\\n')\n",
    "\n",
    "print( s[s.index == 'Bruno'])"
   ]
  },
  {
   "cell_type": "code",
   "execution_count": 101,
   "metadata": {},
   "outputs": [
    {
     "output_type": "stream",
     "name": "stdout",
     "text": [
      "0     2\n1     6\n2    10\n3    12\ndtype: int64\n"
     ]
    }
   ],
   "source": [
    "#juntando Series\n",
    "\n",
    "s1 = pd.Series([1,3,5,6])\n",
    "s2 = pd.Series([1,3,5,6])\n",
    "\n",
    "s3 = s1 + s2\n",
    "\n",
    "print(s3)"
   ]
  },
  {
   "cell_type": "code",
   "execution_count": 103,
   "metadata": {},
   "outputs": [
    {
     "output_type": "stream",
     "name": "stdout",
     "text": [
      "joao     NaN\njosé     2.0\nmaria    NaN\ndtype: float64\n"
     ]
    }
   ],
   "source": [
    "#juntando Series\n",
    "\n",
    "s1 = pd.Series([1,3],index=['josé','joao'])\n",
    "s2 = pd.Series([1,3],index=['josé','maria'])\n",
    "\n",
    "s3 = s1 + s2\n",
    "\n",
    "print(s3)"
   ]
  },
  {
   "cell_type": "code",
   "execution_count": 108,
   "metadata": {},
   "outputs": [
    {
     "output_type": "stream",
     "name": "stdout",
     "text": [
      "joao            NaN\njosé     HelloMundo\nmaria           NaN\ndtype: object \n\njoao      True\njosé     False\nmaria     True\ndtype: bool\n"
     ]
    }
   ],
   "source": [
    "#juntando Series\n",
    "\n",
    "s1 = pd.Series(['Hello',3],index=['josé','joao'])\n",
    "s2 = pd.Series(['Mundo',3],index=['josé','maria'])\n",
    "\n",
    "s3 = s1 + s2\n",
    "\n",
    "print(s3 ,'\\n')\n",
    "\n",
    "print( s3.isnull() )"
   ]
  }
 ]
}