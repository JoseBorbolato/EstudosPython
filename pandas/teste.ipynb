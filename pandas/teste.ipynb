{
 "cells": [
  {
   "cell_type": "code",
   "execution_count": 47,
   "metadata": {},
   "outputs": [],
   "source": [
    "import pandas as pd"
   ]
  },
  {
   "cell_type": "code",
   "execution_count": 48,
   "metadata": {},
   "outputs": [],
   "source": [
    "dic = {\r\n",
    "    'idturmadisc':[5214,5215,5216,9217],\r\n",
    "    'idperlet':[654,654,654,659],\r\n",
    "    'coddisc':['ADM-001','ADM-002','ADM-003','LIA-001'],\r\n",
    "    'nomeDisciplina' : ['Matemática','Português','História','Literatura']\r\n",
    "}"
   ]
  },
  {
   "cell_type": "code",
   "execution_count": 49,
   "metadata": {},
   "outputs": [
    {
     "data": {
      "text/html": [
       "<div>\n",
       "<style scoped>\n",
       "    .dataframe tbody tr th:only-of-type {\n",
       "        vertical-align: middle;\n",
       "    }\n",
       "\n",
       "    .dataframe tbody tr th {\n",
       "        vertical-align: top;\n",
       "    }\n",
       "\n",
       "    .dataframe thead th {\n",
       "        text-align: right;\n",
       "    }\n",
       "</style>\n",
       "<table border=\"1\" class=\"dataframe\">\n",
       "  <thead>\n",
       "    <tr style=\"text-align: right;\">\n",
       "      <th></th>\n",
       "      <th>idturmadisc</th>\n",
       "      <th>idperlet</th>\n",
       "      <th>coddisc</th>\n",
       "      <th>nomeDisciplina</th>\n",
       "    </tr>\n",
       "  </thead>\n",
       "  <tbody>\n",
       "    <tr>\n",
       "      <th>0</th>\n",
       "      <td>5214</td>\n",
       "      <td>654</td>\n",
       "      <td>ADM-001</td>\n",
       "      <td>Matemática</td>\n",
       "    </tr>\n",
       "    <tr>\n",
       "      <th>1</th>\n",
       "      <td>5215</td>\n",
       "      <td>654</td>\n",
       "      <td>ADM-002</td>\n",
       "      <td>Português</td>\n",
       "    </tr>\n",
       "    <tr>\n",
       "      <th>2</th>\n",
       "      <td>5216</td>\n",
       "      <td>654</td>\n",
       "      <td>ADM-003</td>\n",
       "      <td>História</td>\n",
       "    </tr>\n",
       "    <tr>\n",
       "      <th>3</th>\n",
       "      <td>9217</td>\n",
       "      <td>659</td>\n",
       "      <td>LIA-001</td>\n",
       "      <td>Literatura</td>\n",
       "    </tr>\n",
       "  </tbody>\n",
       "</table>\n",
       "</div>"
      ],
      "text/plain": [
       "   idturmadisc  idperlet  coddisc nomeDisciplina\n",
       "0         5214       654  ADM-001     Matemática\n",
       "1         5215       654  ADM-002      Português\n",
       "2         5216       654  ADM-003       História\n",
       "3         9217       659  LIA-001     Literatura"
      ]
     },
     "execution_count": 49,
     "metadata": {},
     "output_type": "execute_result"
    }
   ],
   "source": [
    "#Criando um dataFrame\r\n",
    "\r\n",
    "sturmadisc = pd.DataFrame(dic)\r\n",
    "\r\n",
    "sturmadisc"
   ]
  },
  {
   "cell_type": "code",
   "execution_count": 50,
   "metadata": {},
   "outputs": [
    {
     "data": {
      "text/html": [
       "<div>\n",
       "<style scoped>\n",
       "    .dataframe tbody tr th:only-of-type {\n",
       "        vertical-align: middle;\n",
       "    }\n",
       "\n",
       "    .dataframe tbody tr th {\n",
       "        vertical-align: top;\n",
       "    }\n",
       "\n",
       "    .dataframe thead th {\n",
       "        text-align: right;\n",
       "    }\n",
       "</style>\n",
       "<table border=\"1\" class=\"dataframe\">\n",
       "  <thead>\n",
       "    <tr style=\"text-align: right;\">\n",
       "      <th></th>\n",
       "      <th>idturmadisc</th>\n",
       "      <th>idperlet</th>\n",
       "      <th>coddisc</th>\n",
       "      <th>nomeDisciplina</th>\n",
       "      <th>gerencial</th>\n",
       "    </tr>\n",
       "  </thead>\n",
       "  <tbody>\n",
       "    <tr>\n",
       "      <th>0</th>\n",
       "      <td>5214</td>\n",
       "      <td>654</td>\n",
       "      <td>ADM-001</td>\n",
       "      <td>Matemática</td>\n",
       "      <td>S</td>\n",
       "    </tr>\n",
       "    <tr>\n",
       "      <th>1</th>\n",
       "      <td>5215</td>\n",
       "      <td>654</td>\n",
       "      <td>ADM-002</td>\n",
       "      <td>Português</td>\n",
       "      <td>S</td>\n",
       "    </tr>\n",
       "    <tr>\n",
       "      <th>2</th>\n",
       "      <td>5216</td>\n",
       "      <td>654</td>\n",
       "      <td>ADM-003</td>\n",
       "      <td>História</td>\n",
       "      <td>S</td>\n",
       "    </tr>\n",
       "    <tr>\n",
       "      <th>3</th>\n",
       "      <td>9217</td>\n",
       "      <td>659</td>\n",
       "      <td>LIA-001</td>\n",
       "      <td>Literatura</td>\n",
       "      <td>S</td>\n",
       "    </tr>\n",
       "  </tbody>\n",
       "</table>\n",
       "</div>"
      ],
      "text/plain": [
       "   idturmadisc  idperlet  coddisc nomeDisciplina gerencial\n",
       "0         5214       654  ADM-001     Matemática         S\n",
       "1         5215       654  ADM-002      Português         S\n",
       "2         5216       654  ADM-003       História         S\n",
       "3         9217       659  LIA-001     Literatura         S"
      ]
     },
     "execution_count": 50,
     "metadata": {},
     "output_type": "execute_result"
    }
   ],
   "source": [
    "#adicionando uma nova coluna\r\n",
    "\r\n",
    "sturmadisc['gerencial'] = 'S'\r\n",
    "sturmadisc"
   ]
  },
  {
   "cell_type": "code",
   "execution_count": 51,
   "metadata": {},
   "outputs": [
    {
     "data": {
      "text/html": [
       "<div>\n",
       "<style scoped>\n",
       "    .dataframe tbody tr th:only-of-type {\n",
       "        vertical-align: middle;\n",
       "    }\n",
       "\n",
       "    .dataframe tbody tr th {\n",
       "        vertical-align: top;\n",
       "    }\n",
       "\n",
       "    .dataframe thead th {\n",
       "        text-align: right;\n",
       "    }\n",
       "</style>\n",
       "<table border=\"1\" class=\"dataframe\">\n",
       "  <thead>\n",
       "    <tr style=\"text-align: right;\">\n",
       "      <th></th>\n",
       "      <th>idturmadisc</th>\n",
       "      <th>idperlet</th>\n",
       "      <th>coddisc</th>\n",
       "      <th>nomeDisciplina</th>\n",
       "    </tr>\n",
       "  </thead>\n",
       "  <tbody>\n",
       "    <tr>\n",
       "      <th>0</th>\n",
       "      <td>5214</td>\n",
       "      <td>654</td>\n",
       "      <td>ADM-001</td>\n",
       "      <td>Matemática</td>\n",
       "    </tr>\n",
       "    <tr>\n",
       "      <th>1</th>\n",
       "      <td>5215</td>\n",
       "      <td>654</td>\n",
       "      <td>ADM-002</td>\n",
       "      <td>Português</td>\n",
       "    </tr>\n",
       "    <tr>\n",
       "      <th>2</th>\n",
       "      <td>5216</td>\n",
       "      <td>654</td>\n",
       "      <td>ADM-003</td>\n",
       "      <td>História</td>\n",
       "    </tr>\n",
       "    <tr>\n",
       "      <th>3</th>\n",
       "      <td>9217</td>\n",
       "      <td>659</td>\n",
       "      <td>LIA-001</td>\n",
       "      <td>Literatura</td>\n",
       "    </tr>\n",
       "  </tbody>\n",
       "</table>\n",
       "</div>"
      ],
      "text/plain": [
       "   idturmadisc  idperlet  coddisc nomeDisciplina\n",
       "0         5214       654  ADM-001     Matemática\n",
       "1         5215       654  ADM-002      Português\n",
       "2         5216       654  ADM-003       História\n",
       "3         9217       659  LIA-001     Literatura"
      ]
     },
     "execution_count": 51,
     "metadata": {},
     "output_type": "execute_result"
    }
   ],
   "source": [
    "#removendo a coluna\r\n",
    "\r\n",
    "sturmadisc.drop('gerencial',axis=1,inplace=True)\r\n",
    "\r\n",
    "sturmadisc"
   ]
  },
  {
   "cell_type": "code",
   "execution_count": 52,
   "metadata": {},
   "outputs": [
    {
     "data": {
      "text/html": [
       "<div>\n",
       "<style scoped>\n",
       "    .dataframe tbody tr th:only-of-type {\n",
       "        vertical-align: middle;\n",
       "    }\n",
       "\n",
       "    .dataframe tbody tr th {\n",
       "        vertical-align: top;\n",
       "    }\n",
       "\n",
       "    .dataframe thead th {\n",
       "        text-align: right;\n",
       "    }\n",
       "</style>\n",
       "<table border=\"1\" class=\"dataframe\">\n",
       "  <thead>\n",
       "    <tr style=\"text-align: right;\">\n",
       "      <th></th>\n",
       "      <th>idturmadisc</th>\n",
       "      <th>idperlet</th>\n",
       "      <th>coddisc</th>\n",
       "      <th>nomeDisciplina</th>\n",
       "    </tr>\n",
       "  </thead>\n",
       "  <tbody>\n",
       "    <tr>\n",
       "      <th>0</th>\n",
       "      <td>5214</td>\n",
       "      <td>654</td>\n",
       "      <td>ADM-001</td>\n",
       "      <td>Matemática</td>\n",
       "    </tr>\n",
       "    <tr>\n",
       "      <th>1</th>\n",
       "      <td>5215</td>\n",
       "      <td>654</td>\n",
       "      <td>ADM-002</td>\n",
       "      <td>Português</td>\n",
       "    </tr>\n",
       "    <tr>\n",
       "      <th>2</th>\n",
       "      <td>5216</td>\n",
       "      <td>654</td>\n",
       "      <td>ADM-003</td>\n",
       "      <td>História</td>\n",
       "    </tr>\n",
       "    <tr>\n",
       "      <th>3</th>\n",
       "      <td>9217</td>\n",
       "      <td>659</td>\n",
       "      <td>LIA-001</td>\n",
       "      <td>Literatura</td>\n",
       "    </tr>\n",
       "    <tr>\n",
       "      <th>4</th>\n",
       "      <td>2345</td>\n",
       "      <td>563</td>\n",
       "      <td>DIR-002</td>\n",
       "      <td>Direito Constitucional</td>\n",
       "    </tr>\n",
       "  </tbody>\n",
       "</table>\n",
       "</div>"
      ],
      "text/plain": [
       "   idturmadisc  idperlet  coddisc          nomeDisciplina\n",
       "0         5214       654  ADM-001              Matemática\n",
       "1         5215       654  ADM-002               Português\n",
       "2         5216       654  ADM-003                História\n",
       "3         9217       659  LIA-001              Literatura\n",
       "4         2345       563  DIR-002  Direito Constitucional"
      ]
     },
     "execution_count": 52,
     "metadata": {},
     "output_type": "execute_result"
    }
   ],
   "source": [
    "#Adicionando uma nova linha\r\n",
    "\r\n",
    "#Tras o registro 3\r\n",
    "sturmadisc.loc[3]\r\n",
    "\r\n",
    "sturmadisc.loc[4] = [2345,563,'DIR-002','Direito Constitucional']\r\n",
    "sturmadisc\r\n",
    "\r\n"
   ]
  },
  {
   "cell_type": "code",
   "execution_count": 53,
   "metadata": {},
   "outputs": [
    {
     "name": "stdout",
     "output_type": "stream",
     "text": [
      "idturmadisc\n",
      "idperlet\n",
      "coddisc\n",
      "nomeDisciplina\n"
     ]
    }
   ],
   "source": [
    "#iteragindo em cima de um dataFrame\r\n",
    "\r\n",
    "for x in sturmadisc:\r\n",
    "    print(x)"
   ]
  },
  {
   "cell_type": "code",
   "execution_count": 54,
   "metadata": {},
   "outputs": [
    {
     "name": "stdout",
     "output_type": "stream",
     "text": [
      "[5214 654 'ADM-001' 'Matemática']\n",
      "[5215 654 'ADM-002' 'Português']\n",
      "[5216 654 'ADM-003' 'História']\n",
      "[9217 659 'LIA-001' 'Literatura']\n",
      "[2345 563 'DIR-002' 'Direito Constitucional']\n"
     ]
    }
   ],
   "source": [
    "for x in sturmadisc.values:\r\n",
    "    print(x)"
   ]
  }
 ],
 "metadata": {
  "interpreter": {
   "hash": "671d495510275b9dcc91f50d2a2a19008479ca761b4d66686178417f98ff21c2"
  },
  "kernelspec": {
   "display_name": "Python 3.9.4 64-bit ('venv': venv)",
   "name": "python3"
  },
  "language_info": {
   "codemirror_mode": {
    "name": "ipython",
    "version": 3
   },
   "file_extension": ".py",
   "mimetype": "text/x-python",
   "name": "python",
   "nbconvert_exporter": "python",
   "pygments_lexer": "ipython3",
   "version": "3.9.4"
  },
  "orig_nbformat": 4
 },
 "nbformat": 4,
 "nbformat_minor": 2
}