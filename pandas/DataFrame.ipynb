{
 "metadata": {
  "language_info": {
   "codemirror_mode": {
    "name": "ipython",
    "version": 3
   },
   "file_extension": ".py",
   "mimetype": "text/x-python",
   "name": "python",
   "nbconvert_exporter": "python",
   "pygments_lexer": "ipython3",
   "version": "3.8.8"
  },
  "orig_nbformat": 4,
  "kernelspec": {
   "name": "python3",
   "display_name": "Python 3.8.8 64-bit ('venv': venv)"
  },
  "interpreter": {
   "hash": "671d495510275b9dcc91f50d2a2a19008479ca761b4d66686178417f98ff21c2"
  }
 },
 "nbformat": 4,
 "nbformat_minor": 2,
 "cells": [
  {
   "cell_type": "code",
   "execution_count": 6,
   "metadata": {},
   "outputs": [],
   "source": [
    "import pandas as pd"
   ]
  },
  {
   "cell_type": "code",
   "execution_count": 8,
   "metadata": {},
   "outputs": [
    {
     "output_type": "stream",
     "name": "stdout",
     "text": [
      "   idturmadisc  idperlet  coddisc nomeDisciplina\n0         5214       654  ADM-001     Matemática\n1         5215       654  ADM-002      Português\n2         5216       654  ADM-003       História\n3         9217       659  LIA-001     Literatura\n"
     ]
    }
   ],
   "source": [
    "dic = {\n",
    "    'idturmadisc':[5214,5215,5216,9217],\n",
    "    'idperlet':[654,654,654,659],\n",
    "    'coddisc':['ADM-001','ADM-002','ADM-003','LIA-001'],\n",
    "    'nomeDisciplina' : ['Matemática','Português','História','Literatura']\n",
    "}\n",
    "\n",
    "#transformando um dicionário em dataframe\n",
    "\n",
    "sturmadisc = pd.DataFrame(dic)\n",
    "\n",
    "print(sturmadisc)"
   ]
  }
 ]
}